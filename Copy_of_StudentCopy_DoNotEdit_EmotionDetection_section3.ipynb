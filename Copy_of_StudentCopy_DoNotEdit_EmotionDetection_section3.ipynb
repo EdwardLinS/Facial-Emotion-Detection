{
  "nbformat": 4,
  "nbformat_minor": 0,
  "metadata": {
    "colab": {
      "provenance": []
    },
    "kernelspec": {
      "name": "python3",
      "display_name": "Python 3"
    },
    "accelerator": "GPU"
  },
  "cells": [
    {
      "cell_type": "markdown",
      "metadata": {
        "id": "TiM6gYg0nhkY"
      },
      "source": [
        "<font color=\"#de3023\"><h1><b>REMINDER MAKE A COPY OF THIS NOTEBOOK, DO NOT EDIT</b></h1></font>"
      ]
    },
    {
      "cell_type": "code",
      "metadata": {
        "id": "Qhr-G_92H2Bc",
        "colab": {
          "base_uri": "https://localhost:8080/"
        },
        "outputId": "8afce65e-21c7-4824-8e05-167978174a69"
      },
      "source": [
        "#@title Run this to download data and prepare our environment!  { display-mode: \"form\" }\n",
        "\n",
        "import cv2\n",
        "import dlib\n",
        "import pickle\n",
        "import warnings\n",
        "import numpy as np\n",
        "import pandas as pd\n",
        "import seaborn as sns\n",
        "import itertools\n",
        "\n",
        "import urllib.request\n",
        "\n",
        "from sklearn import metrics\n",
        "from scipy.spatial import distance\n",
        "from sklearn.metrics import accuracy_score\n",
        "from matplotlib import pyplot as plt\n",
        "from tqdm import tqdm,tqdm_pandas\n",
        "from sklearn.preprocessing import StandardScaler\n",
        "from sklearn.model_selection import train_test_split\n",
        "\n",
        "import re\n",
        "import keras\n",
        "\n",
        "from keras.models import Sequential\n",
        "from tensorflow.keras.utils import to_categorical\n",
        "from keras.optimizers import Adam\n",
        "from keras.layers import Dense, Dropout, Activation, Flatten\n",
        "from keras.layers import Conv2D, MaxPooling2D, BatchNormalization\n",
        "from keras.losses import categorical_crossentropy\n",
        "from keras.optimizers import Adam, SGD\n",
        "from keras.regularizers import l2\n",
        "from keras.callbacks import EarlyStopping, ModelCheckpoint\n",
        "from keras.models import load_model\n",
        "\n",
        "# grab tools from our tensorflow and keras toolboxes!\n",
        "import tensorflow as tf\n",
        "from keras.models import Sequential\n",
        "from keras.layers import Activation, Dropout, Flatten, Dense\n",
        "from keras import optimizers\n",
        "\n",
        "warnings.filterwarnings(\"ignore\")\n",
        "def model_to_string(model):\n",
        "    import re\n",
        "    stringlist = []\n",
        "    model.summary(print_fn=lambda x: stringlist.append(x))\n",
        "    sms = \"\\n\".join(stringlist)\n",
        "    sms = re.sub('_\\d\\d\\d','', sms)\n",
        "    sms = re.sub('_\\d\\d','', sms)\n",
        "    sms = re.sub('_\\d','', sms)  \n",
        "    return sms\n",
        "\n",
        "###Getting the csv data loaded\n",
        "!wget -O ./ferdata.csv \"https://storage.googleapis.com/inspirit-ai-data-bucket-1/Data/AI%20Scholars/Sessions%206%20-%2010%20(Projects)/Project%20-%20Emotion%20Detection/fer2013_5.csv\"\n",
        "\n",
        "###Getting the Dlib Shape predictor!\n",
        "!wget -O ./shape_predictor_68_face_landmarks.dat \"https://storage.googleapis.com/inspirit-ai-data-bucket-1/Data/AI%20Scholars/Sessions%206%20-%2010%20(Projects)/Project%20-%20Emotion%20Detection/shape_predictor_68_face_landmarks.dat\"\n",
        "\n",
        "###Getting the Xpure loaded\n",
        "!wget -O ./pureX.npy \"https://storage.googleapis.com/inspirit-ai-data-bucket-1/Data/AI%20Scholars/Sessions%206%20-%2010%20(Projects)/Project%20-%20Emotion%20Detection/pureX.npy\"\n",
        "\n",
        "###Getting the Xdata loaded\n",
        "!wget -O ./dataX.npy \"https://storage.googleapis.com/inspirit-ai-data-bucket-1/Data/AI%20Scholars/Sessions%206%20-%2010%20(Projects)/Project%20-%20Emotion%20Detection/dataX_edited.npy\"\n",
        "\n",
        "###Getting the Ydata loaded\n",
        "!wget -O ./dataY.npy \"https://storage.googleapis.com/inspirit-ai-data-bucket-1/Data/AI%20Scholars/Sessions%206%20-%2010%20(Projects)/Project%20-%20Emotion%20Detection/dataY.npy\"\n",
        "\n",
        "print (\"Data Downloaded!\")\n",
        "\n",
        "'''\n",
        "Plots the confusion Matrix and saves it\n",
        "'''\n",
        "def plot_confusion_matrix(y_true,y_predicted):\n",
        "  cm = metrics.confusion_matrix(y_true, y_predicted)\n",
        "  print (\"Plotting the Confusion Matrix\")\n",
        "  labels = list(label_map.values())\n",
        "  df_cm = pd.DataFrame(cm,index = labels,columns = labels)\n",
        "  fig = plt.figure()\n",
        "  res = sns.heatmap(df_cm, annot=True,cmap='Blues', fmt='g')\n",
        "  plt.yticks([0.5,1.5,2.5,3.5,4.5], labels,va='center')\n",
        "  plt.title('Confusion Matrix - TestData')\n",
        "  plt.ylabel('True label')\n",
        "  plt.xlabel('Predicted label')\n",
        " \n",
        "  plt.show()\n",
        "  plt.close()\n",
        "\n",
        "def plot_graphs(history, best):\n",
        "  \n",
        "  plt.figure(figsize=[10,4])\n",
        "  # summarize history for accuracy\n",
        "  plt.subplot(121)\n",
        "  plt.plot(history.history['accuracy'])\n",
        "  plt.plot(history.history['val_accuracy'])\n",
        "  plt.title('model accuracy across training\\n best accuracy of %.02f'%best[1])\n",
        "  plt.ylabel('accuracy')\n",
        "  plt.xlabel('epoch')\n",
        "  plt.legend(['train', 'test'], loc='upper left')\n",
        "  \n",
        "  # summarize history for loss\n",
        "  plt.subplot(122)\n",
        "  plt.plot(history.history['loss'])\n",
        "  plt.plot(history.history['val_loss'])\n",
        "  plt.title('model loss across training\\n best loss of %.02f'%best[0])\n",
        "  plt.ylabel('loss')\n",
        "  plt.xlabel('epoch')\n",
        "  plt.legend(['train', 'test'], loc='upper left')\n",
        "  plt.show()\n",
        "\n",
        "#Integer to Label Mapping\n",
        "label_map = {\"0\":\"ANGRY\",\"1\":\"HAPPY\",\"2\":\"SAD\",\"3\":\"SURPRISE\",\"4\":\"NEUTRAL\"}\n",
        "\n",
        "\n",
        "#Load the 68 face Landmark file\n",
        "predictor = dlib.shape_predictor('./shape_predictor_68_face_landmarks.dat')\n",
        "\"\"\"\n",
        "Returns facial landmarks for the given input image path\n",
        "\"\"\"\n",
        "def get_landmarks(image):\n",
        "  \n",
        "  \n",
        "  #:type image : cv2 object\n",
        "  #:rtype landmarks : list of tuples where each tuple represents \n",
        "  #                  the x and y co-ordinates of facial keypoints\n",
        "  \n",
        "  #Bounding Box co-ordinates around the face(Training data is 48*48(cropped faces))\n",
        "  rects = [dlib.rectangle(left=1, top=1, right=47, bottom=47)]\n",
        "\n",
        "  #Read Image using OpenCV\n",
        "  #image = cv2.imread(image_path)\n",
        "  #Detect the Faces within the image\n",
        "  landmarks = [(p.x, p.y) for p in predictor(image, rects[0]).parts()]\n",
        "  return image,landmarks\n",
        "\n",
        "\"\"\"\n",
        "Display image with its Facial Landmarks\n",
        "\"\"\"\n",
        "def image_landmarks(image,face_landmarks):\n",
        "  \"\"\"\n",
        "  :type image_path : str\n",
        "  :type face_landmarks : list of tuples where each tuple represents \n",
        "                     the x and y co-ordinates of facial keypoints\n",
        "  :rtype : None\n",
        "  \"\"\"\n",
        "  radius = -4\n",
        "  circle_thickness = 1\n",
        "  image_copy = image.copy()\n",
        "  for (x, y) in face_landmarks:\n",
        "    cv2.circle(image_copy, (x, y), circle_thickness, (255,0,0), radius)\n",
        "    \n",
        "  plt.imshow(image_copy, interpolation='nearest')\n",
        "  plt.show()\n",
        "  \n",
        "\"\"\"\n",
        "Computes euclidean distance between 68 Landmark Points for our features\n",
        "e_dist is a list of features that will go into our model.\n",
        "Each feature is a distance between two landmark points, and every pair of points\n",
        "must have a feature.\n",
        "\"\"\"\n",
        "  \n",
        "\n",
        "def landmarks_edist(face_landmarks):\n",
        "  \n",
        "    e_dist = []\n",
        "    for i, j in itertools.combinations(range(68), 2):\n",
        "      e_dist.append(distance.euclidean(face_landmarks[i], face_landmarks[j]))\n",
        "    \n",
        "    return e_dist\n",
        "  \n",
        "def compare_learning(mlp, lm, cnn, vgg): # there's one model missing: MLP from pixels\n",
        "  \n",
        "  # summarize history for accuracy\n",
        "  plt.plot(vgg.history['val_accuracy'],)\n",
        "  plt.plot(cnn.history['val_accuracy'])\n",
        "  plt.plot(mlp.history['val_accuracy'],)\n",
        "  plt.plot(lm.history['val_accuracy'])\n",
        "  plt.ylabel('validitation accuracy')\n",
        "  plt.xlabel('epoch')\n",
        "  plt.legend(['cnn_transfer', 'cnn_scratch', 'mlp_pixels', 'mlp_landmarks'], bbox_to_anchor=[1,1])\n",
        "  plt.xticks(range(0, epochs+1, 5), range(0, epochs+1, 5))\n",
        "  plt.show()\n"
      ],
      "execution_count": null,
      "outputs": [
        {
          "output_type": "stream",
          "text": [
            "--2021-07-05 05:03:26--  https://storage.googleapis.com/inspirit-ai-data-bucket-1/Data/AI%20Scholars/Sessions%206%20-%2010%20(Projects)/Project%20-%20Emotion%20Detection/fer2013_5.csv\n",
            "Resolving storage.googleapis.com (storage.googleapis.com)... 142.250.101.128, 142.251.2.128, 142.250.141.128, ...\n",
            "Connecting to storage.googleapis.com (storage.googleapis.com)|142.250.101.128|:443... connected.\n",
            "HTTP request sent, awaiting response... 200 OK\n",
            "Length: 167738172 (160M) [text/csv]\n",
            "Saving to: ‘./ferdata.csv’\n",
            "\n",
            "./ferdata.csv       100%[===================>] 159.97M   229MB/s    in 0.7s    \n",
            "\n",
            "2021-07-05 05:03:27 (229 MB/s) - ‘./ferdata.csv’ saved [167738172/167738172]\n",
            "\n",
            "--2021-07-05 05:03:27--  https://storage.googleapis.com/inspirit-ai-data-bucket-1/Data/AI%20Scholars/Sessions%206%20-%2010%20(Projects)/Project%20-%20Emotion%20Detection/shape_predictor_68_face_landmarks.dat\n",
            "Resolving storage.googleapis.com (storage.googleapis.com)... 142.251.2.128, 142.250.141.128, 2607:f8b0:4023:c0d::80, ...\n",
            "Connecting to storage.googleapis.com (storage.googleapis.com)|142.251.2.128|:443... connected.\n",
            "HTTP request sent, awaiting response... 200 OK\n",
            "Length: 99693937 (95M) [application/octet-stream]\n",
            "Saving to: ‘./shape_predictor_68_face_landmarks.dat’\n",
            "\n",
            "./shape_predictor_6 100%[===================>]  95.08M   150MB/s    in 0.6s    \n",
            "\n",
            "2021-07-05 05:03:28 (150 MB/s) - ‘./shape_predictor_68_face_landmarks.dat’ saved [99693937/99693937]\n",
            "\n",
            "--2021-07-05 05:03:28--  https://storage.googleapis.com/inspirit-ai-data-bucket-1/Data/AI%20Scholars/Sessions%206%20-%2010%20(Projects)/Project%20-%20Emotion%20Detection/pureX.npy\n",
            "Resolving storage.googleapis.com (storage.googleapis.com)... 142.250.101.128, 142.251.2.128, 142.250.141.128, ...\n",
            "Connecting to storage.googleapis.com (storage.googleapis.com)|142.250.101.128|:443... connected.\n",
            "HTTP request sent, awaiting response... 200 OK\n",
            "Length: 46080128 (44M) [application/octet-stream]\n",
            "Saving to: ‘./pureX.npy’\n",
            "\n",
            "./pureX.npy         100%[===================>]  43.95M  35.0MB/s    in 1.3s    \n",
            "\n",
            "2021-07-05 05:03:29 (35.0 MB/s) - ‘./pureX.npy’ saved [46080128/46080128]\n",
            "\n",
            "--2021-07-05 05:03:29--  https://storage.googleapis.com/inspirit-ai-data-bucket-1/Data/AI%20Scholars/Sessions%206%20-%2010%20(Projects)/Project%20-%20Emotion%20Detection/dataX_edited.npy\n",
            "Resolving storage.googleapis.com (storage.googleapis.com)... 142.250.101.128, 142.251.2.128, 142.250.141.128, ...\n",
            "Connecting to storage.googleapis.com (storage.googleapis.com)|142.250.101.128|:443... connected.\n",
            "HTTP request sent, awaiting response... 200 OK\n",
            "Length: 364480128 (348M) [application/octet-stream]\n",
            "Saving to: ‘./dataX.npy’\n",
            "\n",
            "./dataX.npy         100%[===================>] 347.59M   158MB/s    in 2.2s    \n",
            "\n",
            "2021-07-05 05:03:32 (158 MB/s) - ‘./dataX.npy’ saved [364480128/364480128]\n",
            "\n",
            "--2021-07-05 05:03:32--  https://storage.googleapis.com/inspirit-ai-data-bucket-1/Data/AI%20Scholars/Sessions%206%20-%2010%20(Projects)/Project%20-%20Emotion%20Detection/dataY.npy\n",
            "Resolving storage.googleapis.com (storage.googleapis.com)... 142.250.101.128, 142.251.2.128, 142.250.141.128, ...\n",
            "Connecting to storage.googleapis.com (storage.googleapis.com)|142.250.101.128|:443... connected.\n",
            "HTTP request sent, awaiting response... 200 OK\n",
            "Length: 160128 (156K) [application/octet-stream]\n",
            "Saving to: ‘./dataY.npy’\n",
            "\n",
            "./dataY.npy         100%[===================>] 156.38K  --.-KB/s    in 0.001s  \n",
            "\n",
            "2021-07-05 05:03:32 (118 MB/s) - ‘./dataY.npy’ saved [160128/160128]\n",
            "\n",
            "Data Downloaded!\n"
          ],
          "name": "stdout"
        }
      ]
    },
    {
      "cell_type": "code",
      "metadata": {
        "id": "jcpypKzI-ol0",
        "cellView": "form",
        "colab": {
          "base_uri": "https://localhost:8080/"
        },
        "outputId": "73ca7610-553a-49b9-af40-cc19cba2b644"
      },
      "source": [
        "#@title If the previous code cell fails to download the data properly, please run this.\n",
        "import cv2\n",
        "import dlib\n",
        "import pickle\n",
        "import warnings\n",
        "import numpy as np\n",
        "import pandas as pd\n",
        "import seaborn as sns\n",
        "import urllib.request\n",
        "from sklearn import metrics\n",
        "from scipy.spatial import distance\n",
        "from matplotlib import pyplot as plt\n",
        "from sklearn.decomposition import PCA\n",
        "from sklearn.preprocessing import StandardScaler\n",
        "from sklearn.linear_model import LogisticRegression\n",
        "from sklearn.tree import DecisionTreeClassifier \n",
        "from sklearn.neighbors import KNeighborsClassifier\n",
        "from sklearn.model_selection import train_test_split\n",
        "import io\n",
        "\n",
        "###Getting the csv data loaded\n",
        "!wget -O ./ferdata.csv \"https://storage.googleapis.com/inspirit-ai-data-bucket-1/Data/AI%20Scholars/Sessions%206%20-%2010%20(Projects)/Project%20-%20Emotion%20Detection/fer2013_5.csv\"\n",
        "\n",
        "###Getting the Dlib Shape predictor!\n",
        "!wget -O ./shape_predictor_68_face_landmarks.dat \"https://storage.googleapis.com/inspirit-ai-data-bucket-1/Data/AI%20Scholars/Sessions%206%20-%2010%20(Projects)/Project%20-%20Emotion%20Detection/shape_predictor_68_face_landmarks.dat\"\n",
        "\n",
        "###Getting the Xpure loaded\n",
        "!wget -O ./pureX.npy \"https://storage.googleapis.com/inspirit-ai-data-bucket-1/Data/AI%20Scholars/Sessions%206%20-%2010%20(Projects)/Project%20-%20Emotion%20Detection/pureX.npy\"\n",
        "\n",
        "###Getting the Xdata loaded\n",
        "!wget -O ./dataX.npy \"https://storage.googleapis.com/inspirit-ai-data-bucket-1/Data/AI%20Scholars/Sessions%206%20-%2010%20(Projects)/Project%20-%20Emotion%20Detection/dataX_edited.npy\"\n",
        "\n",
        "###Getting the Ydata loaded\n",
        "!wget -O ./dataY.npy \"https://storage.googleapis.com/inspirit-ai-data-bucket-1/Data/AI%20Scholars/Sessions%206%20-%2010%20(Projects)/Project%20-%20Emotion%20Detection/dataY.npy\"\n",
        "\n",
        "print (\"Data Downloaded!\")"
      ],
      "execution_count": null,
      "outputs": [
        {
          "output_type": "stream",
          "text": [
            "--2021-07-05 05:03:33--  https://storage.googleapis.com/inspirit-ai-data-bucket-1/Data/AI%20Scholars/Sessions%206%20-%2010%20(Projects)/Project%20-%20Emotion%20Detection/fer2013_5.csv\n",
            "Resolving storage.googleapis.com (storage.googleapis.com)... 142.250.101.128, 142.251.2.128, 142.250.141.128, ...\n",
            "Connecting to storage.googleapis.com (storage.googleapis.com)|142.250.101.128|:443... connected.\n",
            "HTTP request sent, awaiting response... 200 OK\n",
            "Length: 167738172 (160M) [text/csv]\n",
            "Saving to: ‘./ferdata.csv’\n",
            "\n",
            "./ferdata.csv       100%[===================>] 159.97M   261MB/s    in 0.6s    \n",
            "\n",
            "2021-07-05 05:03:34 (261 MB/s) - ‘./ferdata.csv’ saved [167738172/167738172]\n",
            "\n",
            "--2021-07-05 05:03:34--  https://storage.googleapis.com/inspirit-ai-data-bucket-1/Data/AI%20Scholars/Sessions%206%20-%2010%20(Projects)/Project%20-%20Emotion%20Detection/shape_predictor_68_face_landmarks.dat\n",
            "Resolving storage.googleapis.com (storage.googleapis.com)... 142.251.2.128, 142.250.141.128, 2607:f8b0:4023:c06::80, ...\n",
            "Connecting to storage.googleapis.com (storage.googleapis.com)|142.251.2.128|:443... connected.\n",
            "HTTP request sent, awaiting response... 200 OK\n",
            "Length: 99693937 (95M) [application/octet-stream]\n",
            "Saving to: ‘./shape_predictor_68_face_landmarks.dat’\n",
            "\n",
            "./shape_predictor_6 100%[===================>]  95.08M   267MB/s    in 0.4s    \n",
            "\n",
            "2021-07-05 05:03:34 (267 MB/s) - ‘./shape_predictor_68_face_landmarks.dat’ saved [99693937/99693937]\n",
            "\n",
            "--2021-07-05 05:03:34--  https://storage.googleapis.com/inspirit-ai-data-bucket-1/Data/AI%20Scholars/Sessions%206%20-%2010%20(Projects)/Project%20-%20Emotion%20Detection/pureX.npy\n",
            "Resolving storage.googleapis.com (storage.googleapis.com)... 142.250.101.128, 142.251.2.128, 142.250.141.128, ...\n",
            "Connecting to storage.googleapis.com (storage.googleapis.com)|142.250.101.128|:443... connected.\n",
            "HTTP request sent, awaiting response... 200 OK\n",
            "Length: 46080128 (44M) [application/octet-stream]\n",
            "Saving to: ‘./pureX.npy’\n",
            "\n",
            "./pureX.npy         100%[===================>]  43.95M   247MB/s    in 0.2s    \n",
            "\n",
            "2021-07-05 05:03:35 (247 MB/s) - ‘./pureX.npy’ saved [46080128/46080128]\n",
            "\n",
            "--2021-07-05 05:03:35--  https://storage.googleapis.com/inspirit-ai-data-bucket-1/Data/AI%20Scholars/Sessions%206%20-%2010%20(Projects)/Project%20-%20Emotion%20Detection/dataX_edited.npy\n",
            "Resolving storage.googleapis.com (storage.googleapis.com)... 142.251.2.128, 142.250.141.128, 2607:f8b0:4023:c0d::80, ...\n",
            "Connecting to storage.googleapis.com (storage.googleapis.com)|142.251.2.128|:443... connected.\n",
            "HTTP request sent, awaiting response... 200 OK\n",
            "Length: 364480128 (348M) [application/octet-stream]\n",
            "Saving to: ‘./dataX.npy’\n",
            "\n",
            "./dataX.npy         100%[===================>] 347.59M   263MB/s    in 1.3s    \n",
            "\n",
            "2021-07-05 05:03:36 (263 MB/s) - ‘./dataX.npy’ saved [364480128/364480128]\n",
            "\n",
            "--2021-07-05 05:03:36--  https://storage.googleapis.com/inspirit-ai-data-bucket-1/Data/AI%20Scholars/Sessions%206%20-%2010%20(Projects)/Project%20-%20Emotion%20Detection/dataY.npy\n",
            "Resolving storage.googleapis.com (storage.googleapis.com)... 142.251.2.128, 142.250.141.128, 2607:f8b0:4023:c0d::80, ...\n",
            "Connecting to storage.googleapis.com (storage.googleapis.com)|142.251.2.128|:443... connected.\n",
            "HTTP request sent, awaiting response... 200 OK\n",
            "Length: 160128 (156K) [application/octet-stream]\n",
            "Saving to: ‘./dataY.npy’\n",
            "\n",
            "./dataY.npy         100%[===================>] 156.38K  --.-KB/s    in 0.001s  \n",
            "\n",
            "2021-07-05 05:03:36 (109 MB/s) - ‘./dataY.npy’ saved [160128/160128]\n",
            "\n",
            "Data Downloaded!\n"
          ],
          "name": "stdout"
        }
      ]
    },
    {
      "cell_type": "markdown",
      "metadata": {
        "id": "EIrowe2Atd1W"
      },
      "source": [
        "In this notebook we'll be:\n",
        "1.   Understanding and Building Neural Networks\n",
        "2.   Applying Neural Networks to Predict Emotions\n",
        "3.   Implementing CNNs for Emotion Detection\n",
        "4.   Implementing Transfer Learning\n",
        "\n"
      ]
    },
    {
      "cell_type": "markdown",
      "metadata": {
        "id": "xq10yh_OuVlg"
      },
      "source": [
        "#Understanding and building Neural Networks"
      ]
    },
    {
      "cell_type": "markdown",
      "metadata": {
        "id": "OOfhabJ_4hvE"
      },
      "source": [
        "A neural network is a series of algorithms that endeavors to recognize underlying relationships in a set of data through a process that mimics the way the human brain operates. Basically, neural network algorithm helps computers think and learn like humans.\n",
        "\n",
        "The whole idea of artificial neural network is based on the concept of the structure and functions of a human brain. A human brain consists of neurons that process and transmit information between themselves."
      ]
    },
    {
      "cell_type": "markdown",
      "metadata": {
        "id": "4DcLenvXu7th"
      },
      "source": [
        "### Why try neural networks?"
      ]
    },
    {
      "cell_type": "markdown",
      "metadata": {
        "id": "s77Fm2CbvZi7"
      },
      "source": [
        "Our Baseline model performed at ~50 %\n",
        "\n",
        "Human accuracy for fer2013 is around 65 %, suggesting that we could do better!\n",
        "\n",
        "What we require now is a model that can capture more complicated patterns. One class of models that is able to do this and has been very effective for doing this for images are neural networks. \n",
        "\n",
        "\n",
        "### What are neural networks?\n"
      ]
    },
    {
      "cell_type": "markdown",
      "metadata": {
        "id": "ZB_uPibnv2UG"
      },
      "source": [
        "## Instructor-Led Discussion: Building networks\n",
        "\n",
        "To build neural networks in Python, we use the packages known as `tensorflow` and `keras`. Let's learn how to build and use these networks!\n",
        "\n",
        "Tensorflow calls the various machine learning algorithms that it uses 'models'.  These 'models' are 'learning machines.''\n",
        "\n",
        "1. We **teach** models by **training** them on **data**. \n",
        "2. We **use** models to **predict** things. \n",
        "\n",
        "Here is example code for building a Tensorflow model with Keras:"
      ]
    },
    {
      "cell_type": "markdown",
      "metadata": {
        "id": "RUtJ7_FkkPr-"
      },
      "source": [
        "The things you'll want to pay most attention to as we go over how to build networks are: \n",
        "1. The number of neurons\n",
        "2. The activation of the neurons\n",
        "3. The losses and metrics\n",
        "\n",
        "Everything else will work with the default settings!\n",
        "\n",
        "Let's walk though what each of these lines of code means!\n",
        "\n",
        "**1. Specify model**\n",
        "\n",
        "```\n",
        "model = Sequential()\n",
        "```\n",
        "In this line of code, we build our network where the information flows from LEFT to RIGHT through the network in ONE DIRECTION as opposed to multiple directions. Neurons on the right never pass informations to neurons on the left of it. \n",
        "\n",
        "\n",
        "**2. Add layers to the network**\n",
        "```\n",
        "model.add(Dense(4,input_shape = (3,), activation = 'sigmoid'))\n",
        "```\n",
        "In this code, we `add` a `layer` of neurons to our network. \n",
        "\n",
        "This layers consists of 4 neurons. Each neuron is DENSE and connects to all of the previous layer's inputs and all of the subsequent layers outputs. We specify that there are 3 inputs here.\n",
        "\n",
        "We also specify what kind of output the neuron will give. If you want the neuron to output a number between 0 and 1 (like a probability!) you would use 'softmax' or 'sigmoid'. If you want the neuron to output any number, you can use 'linear'! You'll also often see 'relu', which is when a neuron will only output positive numbers. \n",
        "\n",
        "```\n",
        "model.add(Dense(1, activation = 'linear'))\n",
        "```\n",
        "This code adds ANOTHER layer to the network that has 1 neuron. This one neuron is used to predict a continuous value!\n",
        "\n",
        "**3. Turn the model on by compiling it** \n",
        "\n",
        "After having built the network, we want to train and use it, so we have to 'turn it on' and 'compile' it. To turn it on, we have to specify at the very least, a loss, an optimizer, and some ways of evaluating the model (metrics). Don't worry too much about what this means! Just know that this is necessary. \n",
        "\n",
        "```\n",
        "model.compile(loss='mean_squared_error',\n",
        "               optimizer = 'adam',\n",
        "               metrics = ['mean_squared_error'])\n",
        "  ```\n",
        "  \n",
        "  Once we've created our network, we can use it very simply! Just like we did with sklearn, we define our input data (x), the true predictions from that data (y), and then train our model with `fit`. \n",
        "\n",
        "```\n",
        "model.fit(x, y)\n",
        "```\n",
        "\n",
        "To use the model, you can use it to predict something with:\n",
        "```\n",
        "y = model.predict_classes(x)\n",
        "```\n",
        "\n"
      ]
    },
    {
      "cell_type": "markdown",
      "metadata": {
        "id": "ACtfnujXvzaT"
      },
      "source": [
        "### For reference, this is a lot like the kind of models we've been training with scikit learn.\n",
        "\n",
        "The big difference is that defining the model is more involved. We can look at an example from KNN: \n",
        "\n",
        "```\n",
        "# define the model instance \n",
        "knn = KNeighborsClassifier()\n",
        "\n",
        "# train model with X_train\n",
        "knn.fit(X_train, y_train) \n",
        "\n",
        "# predict testing data\n",
        "y_predict = knn.predict(X_test)\n",
        "\n",
        "```"
      ]
    },
    {
      "cell_type": "markdown",
      "metadata": {
        "id": "YJXxWYXcwoGn"
      },
      "source": [
        "##Exercise: Coding a 2 hidden layer MLP\n",
        "\n",
        "Just as we went over last week, neural networks look something like this: \n",
        "\n",
        "![A 2 layer neural network](https://cdn-images-1.medium.com/max/1600/1*DW0Ccmj1hZ0OvSXi7Kz5MQ.jpeg)\n",
        "\n",
        "Each orange and blue node is a neuron. The network itself is composed of a bunch of neurons that talk to each other and eventually give us a prediction. Let's get a bit more concrete with this..."
      ]
    },
    {
      "cell_type": "markdown",
      "metadata": {
        "id": "2MamYyRf16Ii"
      },
      "source": [
        "### How can we build this network above? Fill in the ___ 's below "
      ]
    },
    {
      "cell_type": "code",
      "metadata": {
        "id": "g1FadMwUkOwV"
      },
      "source": [
        "# First, we initialize our model\n",
        "tmp_model = Sequential()\n",
        "# then we add a \"Dense\" (i.e. fully connected) layer\n",
        "tmp_model.add(Dense(7, input_shape=(5,), activation = 'relu')) # for the first layer we specify the input dimensions \n",
        "# then we have to add another layer \n",
        "tmp_model.add(Dense(7, activation = 'relu'))\n",
        "# we end by defining the output layer, which has the number of dimensions of the predictions we're making\n",
        "tmp_model.add(Dense(4, activation = 'linear'))\n",
        "# we finalize the model by \"compiling\" it and defining some other hyperparameters \n",
        "tmp_model.compile(loss='mean_squared_error', optimizer='adam', metrics=['mean_squared_error'])"
      ],
      "execution_count": null,
      "outputs": []
    },
    {
      "cell_type": "markdown",
      "metadata": {
        "id": "-rrqPkJWVLOY"
      },
      "source": [
        "## Exercise: Building our custom neural network"
      ]
    },
    {
      "cell_type": "markdown",
      "metadata": {
        "id": "25DoFvA0VWnq"
      },
      "source": [
        "###Keypoints"
      ]
    },
    {
      "cell_type": "markdown",
      "metadata": {
        "id": "tchJVYOTVZAh"
      },
      "source": [
        "We will build a simple 3-layer network for our first model!\n",
        "\n",
        "\n",
        "For our model, we have as our layers: \n",
        "* Input Layer:  However many inputs there are!\n",
        "* Layer 1 (Hidden): 1024 neurons that are activated by `'relu'` and weights are intialized using `kernel_initializer='glorot_normal'`. Specify the input shape as `(2278,)`.\n",
        "* Layer 2 (Hidden): 512 neurons that are activated by `'relu'` and weights are intialized using `kernel_initializer='glorot_normal'`\n",
        "* Layer 3 (Output): 5 neuron that should have an appropriate activation. \n",
        "* We will compile with the `optimizers.SGD(lr=0.001)` optimizer\n",
        "\n",
        "As a hint for the output activation and the compilation loss, we know that:\n",
        "* Multi-class classification problems require an output activation of `'softmax'` and a loss of `'categorical_crossentropy'`\n",
        "\n",
        "\n"
      ]
    },
    {
      "cell_type": "markdown",
      "metadata": {
        "id": "sv3U4FxbVyfs"
      },
      "source": [
        "###Build your Model (call it `perceptron`)"
      ]
    },
    {
      "cell_type": "code",
      "metadata": {
        "id": "WJh4klMtV3Q_"
      },
      "source": [
        "#YOUR CODE HERE\n",
        "\n",
        "perceptron = Sequential()\n",
        "\n",
        "perceptron.add(Dense(1024, input_shape = (2278,), activation = 'relu', kernel_initializer = 'glorot_normal'))\n",
        "perceptron.add(Dense(512, activation = 'relu', kernel_initializer = 'glorot_normal'))\n",
        "perceptron.add(Dense(5, activation = 'softmax'))\n",
        "\n",
        "perceptron.compile(loss='categorical_crossentropy', optimizer=optimizers.SGD(lr=0.001), metrics=['accuracy'])\n",
        "\n",
        "#END CODE"
      ],
      "execution_count": null,
      "outputs": []
    },
    {
      "cell_type": "code",
      "metadata": {
        "id": "rWDzNTh9Wm0e",
        "colab": {
          "base_uri": "https://localhost:8080/"
        },
        "outputId": "cebd4b2b-dfd9-4413-8476-fa74977e2cc0"
      },
      "source": [
        "#@title Run this to test if your model is right! { display-mode: \"form\" }\n",
        "perceptron_answer = Sequential()\n",
        "perceptron_answer.add(Dense(units = 1024, input_shape = (2278,),kernel_initializer='glorot_normal',activation = 'relu'))\n",
        "perceptron_answer.add(Dense(units = 512,kernel_initializer='glorot_normal' , activation = 'relu'))\n",
        "perceptron_answer.add(Dense(units = 5, activation = 'softmax'))\n",
        "    \n",
        "perceptron_answer.compile(\n",
        "    loss='categorical_crossentropy',\n",
        "    optimizer=SGD(lr=0.001),\n",
        "    metrics=['accuracy'])\n",
        "\n",
        "if model_to_string(perceptron) == model_to_string(perceptron_answer):\n",
        "  print('Good job, you specified it correctly!')\n",
        "else: \n",
        "  print('Please check your code again!')"
      ],
      "execution_count": null,
      "outputs": [
        {
          "output_type": "stream",
          "text": [
            "Good job, you specified it correctly!\n"
          ],
          "name": "stdout"
        }
      ]
    },
    {
      "cell_type": "markdown",
      "metadata": {
        "id": "AgQEGSXJueyV"
      },
      "source": [
        "###Keras Neural Network Model Hyperparameters\n",
        "\n",
        "Neural Network performance depends a lot on *how much* they train. As we'll see, they usually get better with more training BUT actually can get worse with too much training. With too much training, our model can get overconfident in its abilities with the training manual (overfitting), and so doesn't actually think (generalize) when it is tested. \n",
        "\n",
        "The  `fit()` function pertain to how the neural networks train. Don't worry too much about the extra options, what really matters for us is that the right data is specified.\n",
        "\n",
        "\n",
        "What are all these options?\n",
        "* `epochs`: how many times the model trains on the entire data set\n",
        "* `batch_size`: number of samples processed at a time\n",
        "* `shuffle`: mixes the training dataset so the model pays better attention to the data and learns better while training\n",
        "* `validation_data`: we request that our model tests itself on the `test_data` after every epoch. **It is essential to use validation data to test for overfitting!**\n",
        "* `callbacks`: With a custom command, we tell our model to save the best version of itself to a model file called `best_dnn_model.h5`. \n"
      ]
    },
    {
      "cell_type": "markdown",
      "metadata": {
        "id": "oeb1iFnZw3W1"
      },
      "source": [
        "#Applying Neural Networks (MLPs) to predicting emotions"
      ]
    },
    {
      "cell_type": "markdown",
      "metadata": {
        "id": "kGdpkyMmqs-G"
      },
      "source": [
        "### Loading and formatting data for all models in notebook "
      ]
    },
    {
      "cell_type": "markdown",
      "metadata": {
        "id": "pf4GspMjAGoE"
      },
      "source": [
        "First, let's try to build a 4-Layer Neural Network  for our training data to achieve accuracy closer to the human accuracy on the dataset (around 65%)\n",
        "\n",
        "We want to identify the key things that we need to design our network. \n",
        "\n",
        "In your group, discuss: \n",
        "\n",
        "* What are our inputs?\n",
        "* What is/are our outputs?\n",
        "\n",
        "How could this look in a neural network diagram?\n",
        "\n",
        "**Show your instructor your diagram once you're done!!**"
      ]
    },
    {
      "cell_type": "markdown",
      "metadata": {
        "id": "G-hJkIeQthKl"
      },
      "source": [
        "##Activity: Train Neural Network on Emotion Dataset"
      ]
    },
    {
      "cell_type": "markdown",
      "metadata": {
        "id": "LDZqO4EMHeSZ"
      },
      "source": [
        "###Set some hyper parameters for all models"
      ]
    },
    {
      "cell_type": "code",
      "metadata": {
        "id": "284_6dNsHiS5"
      },
      "source": [
        "# the number of times we pass all the training data through the model \n",
        "epochs = 20\n",
        "# the number of examples we pass to the model at each time\n",
        "batch_size = 64\n",
        "# the proportion of testing data we set aside (e.g. 10%)\n",
        "test_ratio = .1\n",
        "# the number of emotion categories we have to predict\n",
        "n_labels = 5 "
      ],
      "execution_count": null,
      "outputs": []
    },
    {
      "cell_type": "markdown",
      "metadata": {
        "id": "gNJx9QCE8w8p"
      },
      "source": [
        "###Load the original (unprocessed) data saved on Day 2!"
      ]
    },
    {
      "cell_type": "code",
      "metadata": {
        "id": "oG7AIjf3xWBa"
      },
      "source": [
        "# load data \n",
        "dataX_pixels = np.load('pureX.npy')\n",
        "dataY_pixels = np.load('dataY.npy')"
      ],
      "execution_count": null,
      "outputs": []
    },
    {
      "cell_type": "markdown",
      "metadata": {
        "id": "7y6HwMAg85jx"
      },
      "source": [
        "### Convert labels to one-hot encoded labels\n",
        "\n",
        "One hot encoding is a representation of categorical variables as binary vectors"
      ]
    },
    {
      "cell_type": "code",
      "metadata": {
        "id": "qA_0acGq9AJN",
        "colab": {
          "base_uri": "https://localhost:8080/"
        },
        "outputId": "bf2a31df-2179-4aae-f828-af4d7533af72"
      },
      "source": [
        "# convert labels to one hot encoding\n",
        "y_onehot = to_categorical(dataY_pixels, len(set(dataY_pixels)))\n",
        "\n",
        "# what does this data type look like? \n",
        "\n",
        "y_onehot"
      ],
      "execution_count": null,
      "outputs": [
        {
          "output_type": "execute_result",
          "data": {
            "text/plain": [
              "array([[1., 0., 0., 0., 0.],\n",
              "       [0., 0., 0., 0., 1.],\n",
              "       [0., 0., 0., 0., 1.],\n",
              "       ...,\n",
              "       [1., 0., 0., 0., 0.],\n",
              "       [0., 0., 1., 0., 0.],\n",
              "       [1., 0., 0., 0., 0.]], dtype=float32)"
            ]
          },
          "metadata": {
            "tags": []
          },
          "execution_count": 8
        }
      ]
    },
    {
      "cell_type": "code",
      "metadata": {
        "id": "a-LTjtaknAqa"
      },
      "source": [
        "#@title Is it clear how these are two equivalent ways to represent the target?\n"
      ],
      "execution_count": null,
      "outputs": []
    },
    {
      "cell_type": "markdown",
      "metadata": {
        "id": "1RodV9eQ71Yz"
      },
      "source": [
        "###Split and Standardize your Data\n",
        "\n"
      ]
    },
    {
      "cell_type": "code",
      "metadata": {
        "id": "cVO4wnTY7rRk"
      },
      "source": [
        "# split Data into Train, Test (90-10)\n",
        "X_train, X_test, y_train, y_test = train_test_split(dataX_pixels, y_onehot, test_size=test_ratio, random_state=42)\n",
        "\n",
        "#### Standardize the data ##########\n",
        "pixel_scaler = StandardScaler()\n",
        "pixel_scaler.fit(X_train)\n",
        "X_train = pixel_scaler.transform(X_train)\n",
        "X_test = pixel_scaler.transform(X_test)"
      ],
      "execution_count": null,
      "outputs": []
    },
    {
      "cell_type": "markdown",
      "metadata": {
        "id": "iaQQkwNsHGSM"
      },
      "source": [
        "## Exercise: Build a simple MLP for emotion detection (call it `mlp_model`)\n"
      ]
    },
    {
      "cell_type": "code",
      "metadata": {
        "id": "QBk3kFJSgQJ0",
        "cellView": "both"
      },
      "source": [
        "#YOUR CODE HERE\n",
        "\n",
        "mlp_model = Sequential()\n",
        "\n",
        "mlp_model.add(Dense(1024, input_shape = (X_train.shape[1],), activation = 'relu', kernel_initializer = 'glorot_normal'))\n",
        "mlp_model.add(Dropout(rate = 0.5))\n",
        "mlp_model.add(Dense(512, activation = 'relu', kernel_initializer = 'glorot_normal'))\n",
        "mlp_model.add(Dense(5, activation = 'softmax'))\n",
        "\n",
        "mlp_model.compile(loss='categorical_crossentropy', optimizer=optimizers.SGD(lr=0.001), metrics=['accuracy'])\n",
        "\n",
        "\n",
        "\n",
        "\n",
        "#END CODE"
      ],
      "execution_count": null,
      "outputs": []
    },
    {
      "cell_type": "code",
      "metadata": {
        "id": "IwYofcaXzWVa",
        "colab": {
          "base_uri": "https://localhost:8080/"
        },
        "outputId": "b2e59823-d334-49df-a8f5-8d92487e16e8"
      },
      "source": [
        "# Compiling the model with SGD optimixer and categorical crossentropy loss\n",
        "mlp_model.compile(loss=categorical_crossentropy, optimizer=SGD(lr=0.001), metrics=['accuracy'])\n",
        "              \n",
        "#Saves the Best Model Based on Val Loss\n",
        "checkpoint = ModelCheckpoint('best_mlp_model.h5', verbose=1, monitor='val_accuracy', save_best_only=True,  mode='auto')  \n",
        "\n",
        "#training the model\n",
        "mlp_history = mlp_model.fit(X_train, y_train, batch_size=batch_size, epochs=30, verbose=1, \n",
        "                            callbacks=[checkpoint], validation_data=(X_test, y_test), shuffle=True)"
      ],
      "execution_count": null,
      "outputs": [
        {
          "output_type": "stream",
          "text": [
            "Epoch 1/30\n",
            "282/282 [==============================] - 15s 5ms/step - loss: 1.8875 - accuracy: 0.2358 - val_loss: 1.5581 - val_accuracy: 0.3095\n",
            "\n",
            "Epoch 00001: val_accuracy improved from -inf to 0.30950, saving model to best_mlp_model.h5\n",
            "Epoch 2/30\n",
            "282/282 [==============================] - 1s 4ms/step - loss: 1.6920 - accuracy: 0.2885 - val_loss: 1.5046 - val_accuracy: 0.3515\n",
            "\n",
            "Epoch 00002: val_accuracy improved from 0.30950 to 0.35150, saving model to best_mlp_model.h5\n",
            "Epoch 3/30\n",
            "282/282 [==============================] - 1s 4ms/step - loss: 1.6216 - accuracy: 0.3105 - val_loss: 1.4775 - val_accuracy: 0.3585\n",
            "\n",
            "Epoch 00003: val_accuracy improved from 0.35150 to 0.35850, saving model to best_mlp_model.h5\n",
            "Epoch 4/30\n",
            "282/282 [==============================] - 1s 3ms/step - loss: 1.5904 - accuracy: 0.3354 - val_loss: 1.4558 - val_accuracy: 0.3790\n",
            "\n",
            "Epoch 00004: val_accuracy improved from 0.35850 to 0.37900, saving model to best_mlp_model.h5\n",
            "Epoch 5/30\n",
            "282/282 [==============================] - 1s 4ms/step - loss: 1.5472 - accuracy: 0.3522 - val_loss: 1.4404 - val_accuracy: 0.3825\n",
            "\n",
            "Epoch 00005: val_accuracy improved from 0.37900 to 0.38250, saving model to best_mlp_model.h5\n",
            "Epoch 6/30\n",
            "282/282 [==============================] - 1s 4ms/step - loss: 1.5189 - accuracy: 0.3580 - val_loss: 1.4252 - val_accuracy: 0.3940\n",
            "\n",
            "Epoch 00006: val_accuracy improved from 0.38250 to 0.39400, saving model to best_mlp_model.h5\n",
            "Epoch 7/30\n",
            "282/282 [==============================] - 1s 3ms/step - loss: 1.5019 - accuracy: 0.3665 - val_loss: 1.4156 - val_accuracy: 0.4040\n",
            "\n",
            "Epoch 00007: val_accuracy improved from 0.39400 to 0.40400, saving model to best_mlp_model.h5\n",
            "Epoch 8/30\n",
            "282/282 [==============================] - 1s 3ms/step - loss: 1.4942 - accuracy: 0.3681 - val_loss: 1.4085 - val_accuracy: 0.4090\n",
            "\n",
            "Epoch 00008: val_accuracy improved from 0.40400 to 0.40900, saving model to best_mlp_model.h5\n",
            "Epoch 9/30\n",
            "282/282 [==============================] - 1s 4ms/step - loss: 1.4731 - accuracy: 0.3850 - val_loss: 1.4044 - val_accuracy: 0.4110\n",
            "\n",
            "Epoch 00009: val_accuracy improved from 0.40900 to 0.41100, saving model to best_mlp_model.h5\n",
            "Epoch 10/30\n",
            "282/282 [==============================] - 1s 4ms/step - loss: 1.4689 - accuracy: 0.3754 - val_loss: 1.3938 - val_accuracy: 0.4185\n",
            "\n",
            "Epoch 00010: val_accuracy improved from 0.41100 to 0.41850, saving model to best_mlp_model.h5\n",
            "Epoch 11/30\n",
            "282/282 [==============================] - 1s 3ms/step - loss: 1.4445 - accuracy: 0.3949 - val_loss: 1.3883 - val_accuracy: 0.4205\n",
            "\n",
            "Epoch 00011: val_accuracy improved from 0.41850 to 0.42050, saving model to best_mlp_model.h5\n",
            "Epoch 12/30\n",
            "282/282 [==============================] - 1s 3ms/step - loss: 1.4359 - accuracy: 0.3995 - val_loss: 1.3825 - val_accuracy: 0.4235\n",
            "\n",
            "Epoch 00012: val_accuracy improved from 0.42050 to 0.42350, saving model to best_mlp_model.h5\n",
            "Epoch 13/30\n",
            "282/282 [==============================] - 1s 3ms/step - loss: 1.4249 - accuracy: 0.4049 - val_loss: 1.3815 - val_accuracy: 0.4230\n",
            "\n",
            "Epoch 00013: val_accuracy did not improve from 0.42350\n",
            "Epoch 14/30\n",
            "282/282 [==============================] - 1s 3ms/step - loss: 1.4131 - accuracy: 0.4052 - val_loss: 1.3773 - val_accuracy: 0.4315\n",
            "\n",
            "Epoch 00014: val_accuracy improved from 0.42350 to 0.43150, saving model to best_mlp_model.h5\n",
            "Epoch 15/30\n",
            "282/282 [==============================] - 1s 4ms/step - loss: 1.4113 - accuracy: 0.4057 - val_loss: 1.3729 - val_accuracy: 0.4325\n",
            "\n",
            "Epoch 00015: val_accuracy improved from 0.43150 to 0.43250, saving model to best_mlp_model.h5\n",
            "Epoch 16/30\n",
            "282/282 [==============================] - 1s 3ms/step - loss: 1.3976 - accuracy: 0.4184 - val_loss: 1.3696 - val_accuracy: 0.4330\n",
            "\n",
            "Epoch 00016: val_accuracy improved from 0.43250 to 0.43300, saving model to best_mlp_model.h5\n",
            "Epoch 17/30\n",
            "282/282 [==============================] - 1s 3ms/step - loss: 1.3912 - accuracy: 0.4173 - val_loss: 1.3662 - val_accuracy: 0.4320\n",
            "\n",
            "Epoch 00017: val_accuracy did not improve from 0.43300\n",
            "Epoch 18/30\n",
            "282/282 [==============================] - 1s 3ms/step - loss: 1.3786 - accuracy: 0.4309 - val_loss: 1.3614 - val_accuracy: 0.4375\n",
            "\n",
            "Epoch 00018: val_accuracy improved from 0.43300 to 0.43750, saving model to best_mlp_model.h5\n",
            "Epoch 19/30\n",
            "282/282 [==============================] - 1s 4ms/step - loss: 1.3847 - accuracy: 0.4214 - val_loss: 1.3600 - val_accuracy: 0.4395\n",
            "\n",
            "Epoch 00019: val_accuracy improved from 0.43750 to 0.43950, saving model to best_mlp_model.h5\n",
            "Epoch 20/30\n",
            "282/282 [==============================] - 1s 4ms/step - loss: 1.3685 - accuracy: 0.4255 - val_loss: 1.3555 - val_accuracy: 0.4425\n",
            "\n",
            "Epoch 00020: val_accuracy improved from 0.43950 to 0.44250, saving model to best_mlp_model.h5\n",
            "Epoch 21/30\n",
            "282/282 [==============================] - 1s 4ms/step - loss: 1.3793 - accuracy: 0.4240 - val_loss: 1.3558 - val_accuracy: 0.4420\n",
            "\n",
            "Epoch 00021: val_accuracy did not improve from 0.44250\n",
            "Epoch 22/30\n",
            "282/282 [==============================] - 1s 4ms/step - loss: 1.3629 - accuracy: 0.4341 - val_loss: 1.3516 - val_accuracy: 0.4480\n",
            "\n",
            "Epoch 00022: val_accuracy improved from 0.44250 to 0.44800, saving model to best_mlp_model.h5\n",
            "Epoch 23/30\n",
            "282/282 [==============================] - 1s 4ms/step - loss: 1.3587 - accuracy: 0.4334 - val_loss: 1.3497 - val_accuracy: 0.4525\n",
            "\n",
            "Epoch 00023: val_accuracy improved from 0.44800 to 0.45250, saving model to best_mlp_model.h5\n",
            "Epoch 24/30\n",
            "282/282 [==============================] - 1s 4ms/step - loss: 1.3526 - accuracy: 0.4325 - val_loss: 1.3454 - val_accuracy: 0.4560\n",
            "\n",
            "Epoch 00024: val_accuracy improved from 0.45250 to 0.45600, saving model to best_mlp_model.h5\n",
            "Epoch 25/30\n",
            "282/282 [==============================] - 1s 3ms/step - loss: 1.3519 - accuracy: 0.4410 - val_loss: 1.3435 - val_accuracy: 0.4500\n",
            "\n",
            "Epoch 00025: val_accuracy did not improve from 0.45600\n",
            "Epoch 26/30\n",
            "282/282 [==============================] - 1s 3ms/step - loss: 1.3495 - accuracy: 0.4434 - val_loss: 1.3432 - val_accuracy: 0.4500\n",
            "\n",
            "Epoch 00026: val_accuracy did not improve from 0.45600\n",
            "Epoch 27/30\n",
            "282/282 [==============================] - 1s 3ms/step - loss: 1.3368 - accuracy: 0.4485 - val_loss: 1.3394 - val_accuracy: 0.4550\n",
            "\n",
            "Epoch 00027: val_accuracy did not improve from 0.45600\n",
            "Epoch 28/30\n",
            "282/282 [==============================] - 1s 3ms/step - loss: 1.3304 - accuracy: 0.4497 - val_loss: 1.3395 - val_accuracy: 0.4605\n",
            "\n",
            "Epoch 00028: val_accuracy improved from 0.45600 to 0.46050, saving model to best_mlp_model.h5\n",
            "Epoch 29/30\n",
            "282/282 [==============================] - 1s 4ms/step - loss: 1.3248 - accuracy: 0.4511 - val_loss: 1.3360 - val_accuracy: 0.4540\n",
            "\n",
            "Epoch 00029: val_accuracy did not improve from 0.46050\n",
            "Epoch 30/30\n",
            "282/282 [==============================] - 1s 3ms/step - loss: 1.3288 - accuracy: 0.4481 - val_loss: 1.3322 - val_accuracy: 0.4565\n",
            "\n",
            "Epoch 00030: val_accuracy did not improve from 0.46050\n"
          ],
          "name": "stdout"
        }
      ]
    },
    {
      "cell_type": "markdown",
      "metadata": {
        "id": "qF0MmGV8Lm7y"
      },
      "source": [
        "##Neural Network Model Evaluation on pixel inputs"
      ]
    },
    {
      "cell_type": "markdown",
      "metadata": {
        "id": "ORXi0y71t3o8"
      },
      "source": [
        "###Evaluate best model"
      ]
    },
    {
      "cell_type": "code",
      "metadata": {
        "id": "DnjfotXoth4e",
        "colab": {
          "base_uri": "https://localhost:8080/"
        },
        "outputId": "bce1ea16-db94-4624-c590-4fd14c3ea6a7"
      },
      "source": [
        "mlp_performance = mlp_model.evaluate(X_test, y_test, batch_size=64)"
      ],
      "execution_count": null,
      "outputs": [
        {
          "output_type": "stream",
          "text": [
            "32/32 [==============================] - 0s 2ms/step - loss: 1.3322 - accuracy: 0.4565\n"
          ],
          "name": "stdout"
        }
      ]
    },
    {
      "cell_type": "markdown",
      "metadata": {
        "id": "3vgEP7OnGlR9"
      },
      "source": [
        "###Visualize accuracy and loss over training + display best model's performance"
      ]
    },
    {
      "cell_type": "code",
      "metadata": {
        "id": "ktHNwzn0G73y",
        "colab": {
          "base_uri": "https://localhost:8080/",
          "height": 310
        },
        "outputId": "f99a9604-6e4a-4b0f-b581-a627905979ac"
      },
      "source": [
        "plot_graphs(mlp_history, mlp_performance); "
      ],
      "execution_count": null,
      "outputs": [
        {
          "output_type": "display_data",
          "data": {
            "image/png": "[encoded data removed]",
            "text/plain": [
              "<Figure size 720x288 with 2 Axes>"
            ]
          },
          "metadata": {
            "tags": [],
            "needs_background": "light"
          }
        }
      ]
    },
    {
      "cell_type": "markdown",
      "metadata": {
        "id": "oPeyL20OFzjN"
      },
      "source": [
        "###Plot the Confusion Matrix"
      ]
    },
    {
      "cell_type": "code",
      "metadata": {
        "id": "MgkxPwg2F7eL",
        "colab": {
          "base_uri": "https://localhost:8080/",
          "height": 312
        },
        "outputId": "b0e4dd31-f83a-4cb7-9103-4a3418090515"
      },
      "source": [
        "y_pred_mlp = mlp_model.predict_classes(X_test)\n",
        "y_true = np.argmax(y_test,axis=1)\n",
        "plot_confusion_matrix(y_true, y_pred_mlp)"
      ],
      "execution_count": null,
      "outputs": [
        {
          "output_type": "stream",
          "text": [
            "Plotting the Confusion Matrix\n"
          ],
          "name": "stdout"
        },
        {
          "output_type": "display_data",
          "data": {
            "image/png": "[encoded data removed]",
            "text/plain": [
              "<Figure size 432x288 with 2 Axes>"
            ]
          },
          "metadata": {
            "tags": [],
            "needs_background": "light"
          }
        }
      ]
    },
    {
      "cell_type": "markdown",
      "metadata": {
        "id": "XqLIJTjW0JE_"
      },
      "source": [
        "##Neural Network Model Evaluation on distance inputs\n",
        "\n",
        "We saw yesterday that building a model on the distances between facial landmarks did better than on raw pixel inputs, is this true for these models as well? "
      ]
    },
    {
      "cell_type": "code",
      "metadata": {
        "id": "k-aKmK6e0a4J"
      },
      "source": [
        "#Load the data (Distances between facial Landmarks)\n",
        "dataX_lm = np.load('./dataX.npy')\n",
        "#dataY_lm = np.load('./dataY.npy')\n",
        "\n",
        "# convert labels to one hot encoding\n",
        "#y_onehot = to_categorical(dataY_lm, len(set(dataY_lm)))\n",
        "\n",
        "# split Data into Train, Test (90-10)\n",
        "X_train_lm, X_test_lm, y_train_lm, y_test_lm = train_test_split(dataX_lm, y_onehot, test_size=0.1, random_state=42)\n",
        "\n",
        "#### Standardize the data ##########\n",
        "lm_scaler = StandardScaler()\n",
        "lm_scaler.fit(X_train_lm)\n",
        "X_train_lm = lm_scaler.transform(X_train_lm)\n",
        "X_test_lm = lm_scaler.transform(X_test_lm)"
      ],
      "execution_count": null,
      "outputs": []
    },
    {
      "cell_type": "code",
      "metadata": {
        "id": "OPub4NX31R3q"
      },
      "source": [
        "#YOUR CODE HERE\n",
        "#YOUR CODE HERE\n",
        "#YOUR CODE HERE\n",
        "#YOUR CODE HERE\n",
        "############### CALL YOUR MODEL 'lm_model' \n",
        "\n",
        "lm_model = Sequential()\n",
        "\n",
        "lm_model.add(Dense(1024, input_shape = (2278,), activation = 'relu', kernel_initializer = 'glorot_normal'))\n",
        "lm_model.add(Dropout(rate=0.5))\n",
        "lm_model.add(Dense(512, activation = 'relu', kernel_initializer = 'glorot_normal'))\n",
        "lm_model.add(Dense(5, activation = 'softmax'))\n",
        "\n",
        "lm_model.compile(loss=categorical_crossentropy, optimizer=SGD(lr=0.001), metrics=['accuracy'])\n",
        "#YOUR CODE HERE\n",
        "#YOUR CODE HERE\n",
        "#YOUR CODE HERE\n",
        "#YOUR CODE HERE"
      ],
      "execution_count": null,
      "outputs": []
    },
    {
      "cell_type": "markdown",
      "metadata": {
        "id": "PQZEkMwsvtlw"
      },
      "source": []
    },
    {
      "cell_type": "code",
      "metadata": {
        "id": "_QEUcTxh7Ara",
        "colab": {
          "base_uri": "https://localhost:8080/"
        },
        "outputId": "425cec4a-487e-4491-9fc8-463a260bf3fd"
      },
      "source": [
        "# Compliling the model with SGD optimixer and categorical crossentropy loss\n",
        "lm_model.compile(loss=categorical_crossentropy, optimizer=SGD(lr=0.001), metrics=['accuracy'])\n",
        "\n",
        "#Saves the Best Model Based on Val Loss\n",
        "checkpoint = ModelCheckpoint('best_lm_model.h5', verbose=1, monitor='val_loss',save_best_only=True,  mode='auto')  \n",
        "#training the model\n",
        "lm_history = lm_model.fit(X_train_lm, y_train_lm, batch_size=batch_size, epochs=50, \n",
        "                          verbose=1, callbacks=[checkpoint], validation_data=(X_test_lm, y_test_lm), shuffle=True)"
      ],
      "execution_count": null,
      "outputs": [
        {
          "output_type": "stream",
          "text": [
            "Epoch 1/50\n",
            "282/282 [==============================] - 2s 4ms/step - loss: 1.7056 - accuracy: 0.3045 - val_loss: 1.3179 - val_accuracy: 0.4350\n",
            "\n",
            "Epoch 00001: val_loss improved from inf to 1.31793, saving model to best_lm_model.h5\n",
            "Epoch 2/50\n",
            "282/282 [==============================] - 1s 4ms/step - loss: 1.4741 - accuracy: 0.3995 - val_loss: 1.2737 - val_accuracy: 0.4580\n",
            "\n",
            "Epoch 00002: val_loss improved from 1.31793 to 1.27370, saving model to best_lm_model.h5\n",
            "Epoch 3/50\n",
            "282/282 [==============================] - 1s 4ms/step - loss: 1.3915 - accuracy: 0.4344 - val_loss: 1.2566 - val_accuracy: 0.4750\n",
            "\n",
            "Epoch 00003: val_loss improved from 1.27370 to 1.25660, saving model to best_lm_model.h5\n",
            "Epoch 4/50\n",
            "282/282 [==============================] - 1s 3ms/step - loss: 1.3659 - accuracy: 0.4410 - val_loss: 1.2359 - val_accuracy: 0.4805\n",
            "\n",
            "Epoch 00004: val_loss improved from 1.25660 to 1.23585, saving model to best_lm_model.h5\n",
            "Epoch 5/50\n",
            "282/282 [==============================] - 1s 3ms/step - loss: 1.3332 - accuracy: 0.4515 - val_loss: 1.2325 - val_accuracy: 0.4805\n",
            "\n",
            "Epoch 00005: val_loss improved from 1.23585 to 1.23252, saving model to best_lm_model.h5\n",
            "Epoch 6/50\n",
            "282/282 [==============================] - 1s 3ms/step - loss: 1.3260 - accuracy: 0.4600 - val_loss: 1.2246 - val_accuracy: 0.4870\n",
            "\n",
            "Epoch 00006: val_loss improved from 1.23252 to 1.22463, saving model to best_lm_model.h5\n",
            "Epoch 7/50\n",
            "282/282 [==============================] - 1s 3ms/step - loss: 1.3058 - accuracy: 0.4656 - val_loss: 1.2162 - val_accuracy: 0.4960\n",
            "\n",
            "Epoch 00007: val_loss improved from 1.22463 to 1.21624, saving model to best_lm_model.h5\n",
            "Epoch 8/50\n",
            "282/282 [==============================] - 1s 3ms/step - loss: 1.2864 - accuracy: 0.4744 - val_loss: 1.2087 - val_accuracy: 0.4950\n",
            "\n",
            "Epoch 00008: val_loss improved from 1.21624 to 1.20868, saving model to best_lm_model.h5\n",
            "Epoch 9/50\n",
            "282/282 [==============================] - 1s 4ms/step - loss: 1.2821 - accuracy: 0.4770 - val_loss: 1.2028 - val_accuracy: 0.4960\n",
            "\n",
            "Epoch 00009: val_loss improved from 1.20868 to 1.20284, saving model to best_lm_model.h5\n",
            "Epoch 10/50\n",
            "282/282 [==============================] - 1s 4ms/step - loss: 1.2533 - accuracy: 0.4943 - val_loss: 1.2004 - val_accuracy: 0.5095\n",
            "\n",
            "Epoch 00010: val_loss improved from 1.20284 to 1.20040, saving model to best_lm_model.h5\n",
            "Epoch 11/50\n",
            "282/282 [==============================] - 1s 3ms/step - loss: 1.2540 - accuracy: 0.4837 - val_loss: 1.1982 - val_accuracy: 0.5055\n",
            "\n",
            "Epoch 00011: val_loss improved from 1.20040 to 1.19818, saving model to best_lm_model.h5\n",
            "Epoch 12/50\n",
            "282/282 [==============================] - 1s 3ms/step - loss: 1.2521 - accuracy: 0.4896 - val_loss: 1.1929 - val_accuracy: 0.5075\n",
            "\n",
            "Epoch 00012: val_loss improved from 1.19818 to 1.19293, saving model to best_lm_model.h5\n",
            "Epoch 13/50\n",
            "282/282 [==============================] - 1s 4ms/step - loss: 1.2351 - accuracy: 0.4914 - val_loss: 1.1860 - val_accuracy: 0.5135\n",
            "\n",
            "Epoch 00013: val_loss improved from 1.19293 to 1.18603, saving model to best_lm_model.h5\n",
            "Epoch 14/50\n",
            "282/282 [==============================] - 1s 4ms/step - loss: 1.2318 - accuracy: 0.5011 - val_loss: 1.1861 - val_accuracy: 0.5135\n",
            "\n",
            "Epoch 00014: val_loss did not improve from 1.18603\n",
            "Epoch 15/50\n",
            "282/282 [==============================] - 1s 3ms/step - loss: 1.2326 - accuracy: 0.4998 - val_loss: 1.1816 - val_accuracy: 0.5080\n",
            "\n",
            "Epoch 00015: val_loss improved from 1.18603 to 1.18156, saving model to best_lm_model.h5\n",
            "Epoch 16/50\n",
            "282/282 [==============================] - 1s 3ms/step - loss: 1.2135 - accuracy: 0.5037 - val_loss: 1.1754 - val_accuracy: 0.5165\n",
            "\n",
            "Epoch 00016: val_loss improved from 1.18156 to 1.17538, saving model to best_lm_model.h5\n",
            "Epoch 17/50\n",
            "282/282 [==============================] - 1s 4ms/step - loss: 1.2266 - accuracy: 0.4973 - val_loss: 1.1738 - val_accuracy: 0.5170\n",
            "\n",
            "Epoch 00017: val_loss improved from 1.17538 to 1.17376, saving model to best_lm_model.h5\n",
            "Epoch 18/50\n",
            "282/282 [==============================] - 1s 4ms/step - loss: 1.2177 - accuracy: 0.5076 - val_loss: 1.1732 - val_accuracy: 0.5130\n",
            "\n",
            "Epoch 00018: val_loss improved from 1.17376 to 1.17316, saving model to best_lm_model.h5\n",
            "Epoch 19/50\n",
            "282/282 [==============================] - 1s 3ms/step - loss: 1.2068 - accuracy: 0.5124 - val_loss: 1.1684 - val_accuracy: 0.5210\n",
            "\n",
            "Epoch 00019: val_loss improved from 1.17316 to 1.16839, saving model to best_lm_model.h5\n",
            "Epoch 20/50\n",
            "282/282 [==============================] - 1s 3ms/step - loss: 1.2083 - accuracy: 0.5059 - val_loss: 1.1678 - val_accuracy: 0.5205\n",
            "\n",
            "Epoch 00020: val_loss improved from 1.16839 to 1.16777, saving model to best_lm_model.h5\n",
            "Epoch 21/50\n",
            "282/282 [==============================] - 1s 3ms/step - loss: 1.2102 - accuracy: 0.5118 - val_loss: 1.1649 - val_accuracy: 0.5250\n",
            "\n",
            "Epoch 00021: val_loss improved from 1.16777 to 1.16491, saving model to best_lm_model.h5\n",
            "Epoch 22/50\n",
            "282/282 [==============================] - 1s 3ms/step - loss: 1.1938 - accuracy: 0.5164 - val_loss: 1.1640 - val_accuracy: 0.5210\n",
            "\n",
            "Epoch 00022: val_loss improved from 1.16491 to 1.16397, saving model to best_lm_model.h5\n",
            "Epoch 23/50\n",
            "282/282 [==============================] - 1s 3ms/step - loss: 1.1874 - accuracy: 0.5234 - val_loss: 1.1599 - val_accuracy: 0.5290\n",
            "\n",
            "Epoch 00023: val_loss improved from 1.16397 to 1.15992, saving model to best_lm_model.h5\n",
            "Epoch 24/50\n",
            "282/282 [==============================] - 1s 4ms/step - loss: 1.1923 - accuracy: 0.5204 - val_loss: 1.1615 - val_accuracy: 0.5255\n",
            "\n",
            "Epoch 00024: val_loss did not improve from 1.15992\n",
            "Epoch 25/50\n",
            "282/282 [==============================] - 1s 4ms/step - loss: 1.1850 - accuracy: 0.5192 - val_loss: 1.1610 - val_accuracy: 0.5240\n",
            "\n",
            "Epoch 00025: val_loss did not improve from 1.15992\n",
            "Epoch 26/50\n",
            "282/282 [==============================] - 1s 4ms/step - loss: 1.1823 - accuracy: 0.5227 - val_loss: 1.1577 - val_accuracy: 0.5300\n",
            "\n",
            "Epoch 00026: val_loss improved from 1.15992 to 1.15769, saving model to best_lm_model.h5\n",
            "Epoch 27/50\n",
            "282/282 [==============================] - 1s 4ms/step - loss: 1.1870 - accuracy: 0.5227 - val_loss: 1.1537 - val_accuracy: 0.5360\n",
            "\n",
            "Epoch 00027: val_loss improved from 1.15769 to 1.15365, saving model to best_lm_model.h5\n",
            "Epoch 28/50\n",
            "282/282 [==============================] - 1s 3ms/step - loss: 1.1869 - accuracy: 0.5177 - val_loss: 1.1526 - val_accuracy: 0.5380\n",
            "\n",
            "Epoch 00028: val_loss improved from 1.15365 to 1.15257, saving model to best_lm_model.h5\n",
            "Epoch 29/50\n",
            "282/282 [==============================] - 1s 4ms/step - loss: 1.1764 - accuracy: 0.5238 - val_loss: 1.1545 - val_accuracy: 0.5300\n",
            "\n",
            "Epoch 00029: val_loss did not improve from 1.15257\n",
            "Epoch 30/50\n",
            "282/282 [==============================] - 1s 4ms/step - loss: 1.1675 - accuracy: 0.5257 - val_loss: 1.1514 - val_accuracy: 0.5310\n",
            "\n",
            "Epoch 00030: val_loss improved from 1.15257 to 1.15138, saving model to best_lm_model.h5\n",
            "Epoch 31/50\n",
            "282/282 [==============================] - 1s 4ms/step - loss: 1.1653 - accuracy: 0.5348 - val_loss: 1.1484 - val_accuracy: 0.5395\n",
            "\n",
            "Epoch 00031: val_loss improved from 1.15138 to 1.14839, saving model to best_lm_model.h5\n",
            "Epoch 32/50\n",
            "282/282 [==============================] - 1s 3ms/step - loss: 1.1681 - accuracy: 0.5298 - val_loss: 1.1485 - val_accuracy: 0.5335\n",
            "\n",
            "Epoch 00032: val_loss did not improve from 1.14839\n",
            "Epoch 33/50\n",
            "282/282 [==============================] - 1s 4ms/step - loss: 1.1745 - accuracy: 0.5313 - val_loss: 1.1510 - val_accuracy: 0.5265\n",
            "\n",
            "Epoch 00033: val_loss did not improve from 1.14839\n",
            "Epoch 34/50\n",
            "282/282 [==============================] - 1s 4ms/step - loss: 1.1808 - accuracy: 0.5188 - val_loss: 1.1448 - val_accuracy: 0.5390\n",
            "\n",
            "Epoch 00034: val_loss improved from 1.14839 to 1.14484, saving model to best_lm_model.h5\n",
            "Epoch 35/50\n",
            "282/282 [==============================] - 1s 3ms/step - loss: 1.1646 - accuracy: 0.5281 - val_loss: 1.1469 - val_accuracy: 0.5350\n",
            "\n",
            "Epoch 00035: val_loss did not improve from 1.14484\n",
            "Epoch 36/50\n",
            "282/282 [==============================] - 1s 3ms/step - loss: 1.1706 - accuracy: 0.5256 - val_loss: 1.1458 - val_accuracy: 0.5340\n",
            "\n",
            "Epoch 00036: val_loss did not improve from 1.14484\n",
            "Epoch 37/50\n",
            "282/282 [==============================] - 1s 4ms/step - loss: 1.1742 - accuracy: 0.5274 - val_loss: 1.1466 - val_accuracy: 0.5340\n",
            "\n",
            "Epoch 00037: val_loss did not improve from 1.14484\n",
            "Epoch 38/50\n",
            "282/282 [==============================] - 1s 3ms/step - loss: 1.1669 - accuracy: 0.5307 - val_loss: 1.1449 - val_accuracy: 0.5340\n",
            "\n",
            "Epoch 00038: val_loss did not improve from 1.14484\n",
            "Epoch 39/50\n",
            "282/282 [==============================] - 1s 4ms/step - loss: 1.1606 - accuracy: 0.5337 - val_loss: 1.1446 - val_accuracy: 0.5350\n",
            "\n",
            "Epoch 00039: val_loss improved from 1.14484 to 1.14465, saving model to best_lm_model.h5\n",
            "Epoch 40/50\n",
            "282/282 [==============================] - 1s 3ms/step - loss: 1.1636 - accuracy: 0.5367 - val_loss: 1.1435 - val_accuracy: 0.5415\n",
            "\n",
            "Epoch 00040: val_loss improved from 1.14465 to 1.14349, saving model to best_lm_model.h5\n",
            "Epoch 41/50\n",
            "282/282 [==============================] - 1s 3ms/step - loss: 1.1547 - accuracy: 0.5282 - val_loss: 1.1425 - val_accuracy: 0.5370\n",
            "\n",
            "Epoch 00041: val_loss improved from 1.14349 to 1.14248, saving model to best_lm_model.h5\n",
            "Epoch 42/50\n",
            "282/282 [==============================] - 1s 3ms/step - loss: 1.1597 - accuracy: 0.5287 - val_loss: 1.1405 - val_accuracy: 0.5410\n",
            "\n",
            "Epoch 00042: val_loss improved from 1.14248 to 1.14053, saving model to best_lm_model.h5\n",
            "Epoch 43/50\n",
            "282/282 [==============================] - 1s 3ms/step - loss: 1.1488 - accuracy: 0.5352 - val_loss: 1.1391 - val_accuracy: 0.5365\n",
            "\n",
            "Epoch 00043: val_loss improved from 1.14053 to 1.13907, saving model to best_lm_model.h5\n",
            "Epoch 44/50\n",
            "282/282 [==============================] - 1s 3ms/step - loss: 1.1496 - accuracy: 0.5363 - val_loss: 1.1384 - val_accuracy: 0.5405\n",
            "\n",
            "Epoch 00044: val_loss improved from 1.13907 to 1.13843, saving model to best_lm_model.h5\n",
            "Epoch 45/50\n",
            "282/282 [==============================] - 1s 3ms/step - loss: 1.1372 - accuracy: 0.5418 - val_loss: 1.1384 - val_accuracy: 0.5405\n",
            "\n",
            "Epoch 00045: val_loss did not improve from 1.13843\n",
            "Epoch 46/50\n",
            "282/282 [==============================] - 1s 3ms/step - loss: 1.1520 - accuracy: 0.5398 - val_loss: 1.1393 - val_accuracy: 0.5405\n",
            "\n",
            "Epoch 00046: val_loss did not improve from 1.13843\n",
            "Epoch 47/50\n",
            "282/282 [==============================] - 1s 3ms/step - loss: 1.1462 - accuracy: 0.5453 - val_loss: 1.1361 - val_accuracy: 0.5415\n",
            "\n",
            "Epoch 00047: val_loss improved from 1.13843 to 1.13609, saving model to best_lm_model.h5\n",
            "Epoch 48/50\n",
            "282/282 [==============================] - 1s 4ms/step - loss: 1.1424 - accuracy: 0.5418 - val_loss: 1.1361 - val_accuracy: 0.5380\n",
            "\n",
            "Epoch 00048: val_loss did not improve from 1.13609\n",
            "Epoch 49/50\n",
            "282/282 [==============================] - 1s 4ms/step - loss: 1.1452 - accuracy: 0.5354 - val_loss: 1.1380 - val_accuracy: 0.5365\n",
            "\n",
            "Epoch 00049: val_loss did not improve from 1.13609\n",
            "Epoch 50/50\n",
            "282/282 [==============================] - 1s 4ms/step - loss: 1.1293 - accuracy: 0.5464 - val_loss: 1.1358 - val_accuracy: 0.5390\n",
            "\n",
            "Epoch 00050: val_loss improved from 1.13609 to 1.13579, saving model to best_lm_model.h5\n"
          ],
          "name": "stdout"
        }
      ]
    },
    {
      "cell_type": "markdown",
      "metadata": {
        "id": "Xb2ruZoq1YPO"
      },
      "source": [
        "### Evaluate model"
      ]
    },
    {
      "cell_type": "code",
      "metadata": {
        "colab": {
          "base_uri": "https://localhost:8080/"
        },
        "id": "AYdFbtJlxG9S",
        "outputId": "f0067012-3ebd-4da6-b4ae-d44bddf2621b"
      },
      "source": [
        "lm_performance = lm_model.evaluate(X_test_lm, y_test_lm, batch_size=64)\n",
        "lm_performance"
      ],
      "execution_count": null,
      "outputs": [
        {
          "output_type": "stream",
          "text": [
            "32/32 [==============================] - 0s 3ms/step - loss: 1.1358 - accuracy: 0.5390\n"
          ],
          "name": "stdout"
        },
        {
          "output_type": "execute_result",
          "data": {
            "text/plain": [
              "[1.1357940435409546, 0.5389999747276306]"
            ]
          },
          "metadata": {
            "tags": []
          },
          "execution_count": 19
        }
      ]
    },
    {
      "cell_type": "markdown",
      "metadata": {
        "id": "yj3XDT2eu31x"
      },
      "source": [
        "###Visualize accuracy and loss over training + display best model's performance"
      ]
    },
    {
      "cell_type": "code",
      "metadata": {
        "id": "kG1V_8AIs9Xf",
        "colab": {
          "base_uri": "https://localhost:8080/",
          "height": 310
        },
        "outputId": "4277b4cf-1592-4b7a-e0c9-b5e9774e78f4"
      },
      "source": [
        "# YOUR CODE HERE\n",
        "# YOUR CODE HERE\n",
        "#Saves the Best Model Based on Val Loss\n",
        "plot_graphs(lm_history, lm_performance); "
      ],
      "execution_count": null,
      "outputs": [
        {
          "output_type": "display_data",
          "data": {
            "image/png": "[encoded data removed]",
            "text/plain": [
              "<Figure size 720x288 with 2 Axes>"
            ]
          },
          "metadata": {
            "tags": [],
            "needs_background": "light"
          }
        }
      ]
    },
    {
      "cell_type": "markdown",
      "metadata": {
        "id": "1Xk6GHxUgiY6"
      },
      "source": [
        "## Instructor-Led Discussion\n",
        "\n",
        "How can we explain the difference between these two models?"
      ]
    },
    {
      "cell_type": "markdown",
      "metadata": {
        "id": "lX9zvfvrAtrj"
      },
      "source": [
        "#Convolutional Neural Networks for Emotion Detection!"
      ]
    },
    {
      "cell_type": "markdown",
      "metadata": {
        "id": "jXuDr1x1CZYP"
      },
      "source": [
        "###Model Hyperparameters"
      ]
    },
    {
      "cell_type": "code",
      "metadata": {
        "id": "OvPqbBy8Cc1G"
      },
      "source": [
        "# we'll use the same epochs and batch size as above\n",
        "width, height = 48, 48"
      ],
      "execution_count": null,
      "outputs": []
    },
    {
      "cell_type": "markdown",
      "metadata": {
        "id": "wTH-IlrL0HVE"
      },
      "source": [
        "###Reshape the inputs"
      ]
    },
    {
      "cell_type": "code",
      "metadata": {
        "id": "DwTlyCBk6FOd",
        "colab": {
          "base_uri": "https://localhost:8080/"
        },
        "outputId": "4d5bdd3a-22e8-498b-9139-5c755af6c0be"
      },
      "source": [
        "# pixels were vectors\n",
        "print(X_train.shape) "
      ],
      "execution_count": null,
      "outputs": [
        {
          "output_type": "stream",
          "text": [
            "(18000, 2304)\n"
          ],
          "name": "stdout"
        }
      ]
    },
    {
      "cell_type": "code",
      "metadata": {
        "id": "NNSP1-vz6Lnk",
        "colab": {
          "base_uri": "https://localhost:8080/"
        },
        "outputId": "c5b186ef-7bfb-4ffe-c894-97a68e06b940"
      },
      "source": [
        "X_train_cnn = X_train.reshape(len(X_train),height,width)\n",
        "X_test_cnn = X_test.reshape(len(X_test),height,width)\n",
        "\n",
        "# we've converted them to images\n",
        "print(X_train_cnn.shape) \n",
        "# now we add one more dimension for model compatability\n",
        "print(X_test_cnn.shape) \n"
      ],
      "execution_count": null,
      "outputs": [
        {
          "output_type": "stream",
          "text": [
            "(18000, 48, 48)\n",
            "(2000, 48, 48)\n"
          ],
          "name": "stdout"
        }
      ]
    },
    {
      "cell_type": "code",
      "metadata": {
        "id": "RFP5S57i69o7",
        "colab": {
          "base_uri": "https://localhost:8080/"
        },
        "outputId": "1b4de6d6-78f6-4e87-db93-c17d1b3fbc46"
      },
      "source": [
        "# now we add one more dimension for model compatability\n",
        "X_train_cnn = np.expand_dims(X_train_cnn,3)\n",
        "X_test_cnn = np.expand_dims(X_test_cnn,3)\n",
        "\n",
        "print(X_train_cnn.shape)"
      ],
      "execution_count": null,
      "outputs": [
        {
          "output_type": "stream",
          "text": [
            "(18000, 48, 48, 1)\n"
          ],
          "name": "stdout"
        }
      ]
    },
    {
      "cell_type": "code",
      "metadata": {
        "id": "fnI75Z1yDylH",
        "cellView": "both"
      },
      "source": [
        "# Change the hyperparameters in the model below \n",
        "\n",
        "# initialize model\n",
        "cnn_model = Sequential()\n",
        "# this conv layer has 64 filters! the input shape needs to be the same dimensions of the image\n",
        "cnn_model.add(Conv2D(64, kernel_size=(3, 3), activation='relu', input_shape=(width, height, 1)))\n",
        "cnn_model.add(Conv2D(64, kernel_size=(3, 3), activation='relu', padding = 'same'))\n",
        "cnn_model.add(BatchNormalization())\n",
        "cnn_model.add(MaxPooling2D(pool_size=(2, 2), strides=(2, 2)))\n",
        "cnn_model.add(Dropout(0.5))\n",
        "\n",
        "cnn_model.add(Conv2D(128, kernel_size=(3, 3), activation='relu', padding = 'same'))\n",
        "cnn_model.add(BatchNormalization())\n",
        "cnn_model.add(Conv2D(128, kernel_size=(3, 3), activation='relu', padding = 'same'))\n",
        "cnn_model.add(BatchNormalization())\n",
        "cnn_model.add(MaxPooling2D(pool_size=(2, 2), strides=(2, 2)))\n",
        "cnn_model.add(Dropout(0.5))\n",
        "\n",
        "cnn_model.add(Conv2D(256, kernel_size=(3, 3), activation='relu', padding = 'same'))\n",
        "cnn_model.add(BatchNormalization())\n",
        "cnn_model.add(Conv2D(256, kernel_size=(3, 3), activation='relu', padding = 'same'))\n",
        "cnn_model.add(BatchNormalization())\n",
        "cnn_model.add(MaxPooling2D(pool_size=(2, 2), strides=(2, 2)))\n",
        "cnn_model.add(Dropout(0.5))\n",
        "\n",
        "cnn_model.add(Conv2D(512, kernel_size=(3, 3), activation='relu', padding = 'same'))\n",
        "cnn_model.add(BatchNormalization())\n",
        "cnn_model.add(Conv2D(512, kernel_size=(3, 3), activation='relu', padding = 'same'))\n",
        "cnn_model.add(BatchNormalization())\n",
        "cnn_model.add(MaxPooling2D(pool_size=(2, 2), strides=(2, 2)))\n",
        "cnn_model.add(Dropout(0.5))\n",
        "\n",
        "# flatten all the outputs between convolutional and dense layers\n",
        "cnn_model.add(Flatten())\n",
        "# add a \"dense layer\" (i.e. the fully connected layers in MLPs) with dropout\n",
        "cnn_model.add(Dense(512, activation='relu'))\n",
        "cnn_model.add(Dense(256, activation = 'relu'))\n",
        "cnn_model.add(Dense(128, activation = 'relu'))\n",
        "cnn_model.add(Dropout(rate=0.5))\n",
        "# output layer\n",
        "cnn_model.add(Dense(n_labels, activation='softmax'))"
      ],
      "execution_count": null,
      "outputs": []
    },
    {
      "cell_type": "code",
      "metadata": {
        "id": "YqirnWL8wDGR",
        "colab": {
          "base_uri": "https://localhost:8080/"
        },
        "outputId": "18323b56-6f72-4679-f364-2419ef071747"
      },
      "source": [
        "#Saves the Best Model Based on Val Loss\n",
        "checkpoint = ModelCheckpoint('best_cnn_model.h5', verbose=1, monitor='val_loss',save_best_only=True, mode='auto')  \n",
        "\n",
        "# compliling the model with adam optimixer and categorical crossentropy loss\n",
        "cnn_model.compile(loss=categorical_crossentropy, optimizer=Adam(lr=0.001, beta_1=0.9, beta_2=0.999), metrics=['accuracy'])\n",
        "\n",
        "# training the model\n",
        "cnn_history = cnn_model.fit(X_train_cnn, y_train, batch_size=batch_size, epochs=35, verbose=1, \n",
        "                            callbacks=[checkpoint], validation_data=(X_test_cnn, y_test), shuffle=True)"
      ],
      "execution_count": null,
      "outputs": [
        {
          "output_type": "stream",
          "text": [
            "Epoch 1/35\n",
            "282/282 [==============================] - 48s 48ms/step - loss: 1.7723 - accuracy: 0.2411 - val_loss: 1.7167 - val_accuracy: 0.2180\n",
            "\n",
            "Epoch 00001: val_loss improved from inf to 1.71672, saving model to best_cnn_model.h5\n",
            "Epoch 2/35\n",
            "282/282 [==============================] - 12s 43ms/step - loss: 1.4621 - accuracy: 0.3364 - val_loss: 1.3432 - val_accuracy: 0.4140\n",
            "\n",
            "Epoch 00002: val_loss improved from 1.71672 to 1.34316, saving model to best_cnn_model.h5\n",
            "Epoch 3/35\n",
            "282/282 [==============================] - 12s 43ms/step - loss: 1.3744 - accuracy: 0.4021 - val_loss: 1.3261 - val_accuracy: 0.4390\n",
            "\n",
            "Epoch 00003: val_loss improved from 1.34316 to 1.32613, saving model to best_cnn_model.h5\n",
            "Epoch 4/35\n",
            "282/282 [==============================] - 12s 44ms/step - loss: 1.2532 - accuracy: 0.4752 - val_loss: 1.1100 - val_accuracy: 0.5445\n",
            "\n",
            "Epoch 00004: val_loss improved from 1.32613 to 1.10997, saving model to best_cnn_model.h5\n",
            "Epoch 5/35\n",
            "282/282 [==============================] - 13s 44ms/step - loss: 1.1558 - accuracy: 0.5396 - val_loss: 1.0796 - val_accuracy: 0.5680\n",
            "\n",
            "Epoch 00005: val_loss improved from 1.10997 to 1.07963, saving model to best_cnn_model.h5\n",
            "Epoch 6/35\n",
            "282/282 [==============================] - 13s 45ms/step - loss: 1.0780 - accuracy: 0.5739 - val_loss: 0.9798 - val_accuracy: 0.6040\n",
            "\n",
            "Epoch 00006: val_loss improved from 1.07963 to 0.97980, saving model to best_cnn_model.h5\n",
            "Epoch 7/35\n",
            "282/282 [==============================] - 13s 45ms/step - loss: 1.0330 - accuracy: 0.5926 - val_loss: 0.9715 - val_accuracy: 0.6015\n",
            "\n",
            "Epoch 00007: val_loss improved from 0.97980 to 0.97152, saving model to best_cnn_model.h5\n",
            "Epoch 8/35\n",
            "282/282 [==============================] - 13s 45ms/step - loss: 0.9919 - accuracy: 0.6121 - val_loss: 0.8823 - val_accuracy: 0.6555\n",
            "\n",
            "Epoch 00008: val_loss improved from 0.97152 to 0.88234, saving model to best_cnn_model.h5\n",
            "Epoch 9/35\n",
            "282/282 [==============================] - 13s 44ms/step - loss: 0.9300 - accuracy: 0.6388 - val_loss: 0.9263 - val_accuracy: 0.6555\n",
            "\n",
            "Epoch 00009: val_loss did not improve from 0.88234\n",
            "Epoch 10/35\n",
            "282/282 [==============================] - 12s 44ms/step - loss: 0.9012 - accuracy: 0.6493 - val_loss: 0.8961 - val_accuracy: 0.6570\n",
            "\n",
            "Epoch 00010: val_loss did not improve from 0.88234\n",
            "Epoch 11/35\n",
            "282/282 [==============================] - 13s 44ms/step - loss: 0.8653 - accuracy: 0.6678 - val_loss: 0.9498 - val_accuracy: 0.6315\n",
            "\n",
            "Epoch 00011: val_loss did not improve from 0.88234\n",
            "Epoch 12/35\n",
            "282/282 [==============================] - 13s 45ms/step - loss: 0.8312 - accuracy: 0.6894 - val_loss: 0.9036 - val_accuracy: 0.6545\n",
            "\n",
            "Epoch 00012: val_loss did not improve from 0.88234\n",
            "Epoch 13/35\n",
            "282/282 [==============================] - 13s 45ms/step - loss: 0.8069 - accuracy: 0.7043 - val_loss: 0.9148 - val_accuracy: 0.6560\n",
            "\n",
            "Epoch 00013: val_loss did not improve from 0.88234\n",
            "Epoch 14/35\n",
            "282/282 [==============================] - 13s 45ms/step - loss: 0.7796 - accuracy: 0.7103 - val_loss: 0.8917 - val_accuracy: 0.6655\n",
            "\n",
            "Epoch 00014: val_loss did not improve from 0.88234\n",
            "Epoch 15/35\n",
            "282/282 [==============================] - 13s 45ms/step - loss: 0.7533 - accuracy: 0.7188 - val_loss: 0.8777 - val_accuracy: 0.6850\n",
            "\n",
            "Epoch 00015: val_loss improved from 0.88234 to 0.87770, saving model to best_cnn_model.h5\n",
            "Epoch 16/35\n",
            "282/282 [==============================] - 13s 45ms/step - loss: 0.7199 - accuracy: 0.7323 - val_loss: 0.8671 - val_accuracy: 0.6880\n",
            "\n",
            "Epoch 00016: val_loss improved from 0.87770 to 0.86712, saving model to best_cnn_model.h5\n",
            "Epoch 17/35\n",
            "282/282 [==============================] - 13s 45ms/step - loss: 0.6826 - accuracy: 0.7484 - val_loss: 0.8497 - val_accuracy: 0.6940\n",
            "\n",
            "Epoch 00017: val_loss improved from 0.86712 to 0.84971, saving model to best_cnn_model.h5\n",
            "Epoch 18/35\n",
            "282/282 [==============================] - 13s 44ms/step - loss: 0.6532 - accuracy: 0.7651 - val_loss: 0.8961 - val_accuracy: 0.6800\n",
            "\n",
            "Epoch 00018: val_loss did not improve from 0.84971\n",
            "Epoch 19/35\n",
            "282/282 [==============================] - 13s 44ms/step - loss: 0.6368 - accuracy: 0.7640 - val_loss: 0.8574 - val_accuracy: 0.6990\n",
            "\n",
            "Epoch 00019: val_loss did not improve from 0.84971\n",
            "Epoch 20/35\n",
            "282/282 [==============================] - 13s 45ms/step - loss: 0.6176 - accuracy: 0.7765 - val_loss: 0.8776 - val_accuracy: 0.7055\n",
            "\n",
            "Epoch 00020: val_loss did not improve from 0.84971\n",
            "Epoch 21/35\n",
            "282/282 [==============================] - 13s 45ms/step - loss: 0.5825 - accuracy: 0.7883 - val_loss: 0.9024 - val_accuracy: 0.6905\n",
            "\n",
            "Epoch 00021: val_loss did not improve from 0.84971\n",
            "Epoch 22/35\n",
            "282/282 [==============================] - 13s 45ms/step - loss: 0.5480 - accuracy: 0.7989 - val_loss: 0.8703 - val_accuracy: 0.7015\n",
            "\n",
            "Epoch 00022: val_loss did not improve from 0.84971\n",
            "Epoch 23/35\n",
            "282/282 [==============================] - 13s 45ms/step - loss: 0.5342 - accuracy: 0.8019 - val_loss: 0.9256 - val_accuracy: 0.7065\n",
            "\n",
            "Epoch 00023: val_loss did not improve from 0.84971\n",
            "Epoch 24/35\n",
            "282/282 [==============================] - 13s 45ms/step - loss: 0.4867 - accuracy: 0.8267 - val_loss: 0.9130 - val_accuracy: 0.6980\n",
            "\n",
            "Epoch 00024: val_loss did not improve from 0.84971\n",
            "Epoch 25/35\n",
            "282/282 [==============================] - 13s 45ms/step - loss: 0.4723 - accuracy: 0.8257 - val_loss: 0.9328 - val_accuracy: 0.7075\n",
            "\n",
            "Epoch 00025: val_loss did not improve from 0.84971\n",
            "Epoch 26/35\n",
            "282/282 [==============================] - 13s 45ms/step - loss: 0.4630 - accuracy: 0.8344 - val_loss: 0.9490 - val_accuracy: 0.6880\n",
            "\n",
            "Epoch 00026: val_loss did not improve from 0.84971\n",
            "Epoch 27/35\n",
            "282/282 [==============================] - 13s 45ms/step - loss: 0.4288 - accuracy: 0.8425 - val_loss: 0.9509 - val_accuracy: 0.6980\n",
            "\n",
            "Epoch 00027: val_loss did not improve from 0.84971\n",
            "Epoch 28/35\n",
            "282/282 [==============================] - 13s 45ms/step - loss: 0.3998 - accuracy: 0.8532 - val_loss: 0.9568 - val_accuracy: 0.6915\n",
            "\n",
            "Epoch 00028: val_loss did not improve from 0.84971\n",
            "Epoch 29/35\n",
            "282/282 [==============================] - 13s 45ms/step - loss: 0.3909 - accuracy: 0.8596 - val_loss: 1.0166 - val_accuracy: 0.6930\n",
            "\n",
            "Epoch 00029: val_loss did not improve from 0.84971\n",
            "Epoch 30/35\n",
            "282/282 [==============================] - 13s 45ms/step - loss: 0.3716 - accuracy: 0.8693 - val_loss: 1.1082 - val_accuracy: 0.6865\n",
            "\n",
            "Epoch 00030: val_loss did not improve from 0.84971\n",
            "Epoch 31/35\n",
            "282/282 [==============================] - 13s 45ms/step - loss: 0.3734 - accuracy: 0.8669 - val_loss: 0.9982 - val_accuracy: 0.7000\n",
            "\n",
            "Epoch 00031: val_loss did not improve from 0.84971\n",
            "Epoch 32/35\n",
            "282/282 [==============================] - 13s 45ms/step - loss: 0.3440 - accuracy: 0.8764 - val_loss: 1.0371 - val_accuracy: 0.6985\n",
            "\n",
            "Epoch 00032: val_loss did not improve from 0.84971\n",
            "Epoch 33/35\n",
            "282/282 [==============================] - 13s 44ms/step - loss: 0.3293 - accuracy: 0.8842 - val_loss: 0.9988 - val_accuracy: 0.6980\n",
            "\n",
            "Epoch 00033: val_loss did not improve from 0.84971\n",
            "Epoch 34/35\n",
            "282/282 [==============================] - 13s 45ms/step - loss: 0.3096 - accuracy: 0.8889 - val_loss: 1.0057 - val_accuracy: 0.7025\n",
            "\n",
            "Epoch 00034: val_loss did not improve from 0.84971\n",
            "Epoch 35/35\n",
            "282/282 [==============================] - 13s 45ms/step - loss: 0.2949 - accuracy: 0.8968 - val_loss: 1.1279 - val_accuracy: 0.6945\n",
            "\n",
            "Epoch 00035: val_loss did not improve from 0.84971\n"
          ],
          "name": "stdout"
        }
      ]
    },
    {
      "cell_type": "markdown",
      "metadata": {
        "id": "wXprpaHpxVb-"
      },
      "source": [
        "###Evaluate the model"
      ]
    },
    {
      "cell_type": "code",
      "metadata": {
        "id": "JvCbnwZ_CBYv",
        "colab": {
          "base_uri": "https://localhost:8080/"
        },
        "outputId": "98a32a7f-516d-42b3-d2f2-70ee7f305a2e"
      },
      "source": [
        "cnn_performance = cnn_model.evaluate(X_test_cnn, y_test, batch_size=64)\n",
        "cnn_performance"
      ],
      "execution_count": null,
      "outputs": [
        {
          "output_type": "stream",
          "text": [
            "32/32 [==============================] - 0s 14ms/step - loss: 1.1279 - accuracy: 0.6945\n"
          ],
          "name": "stdout"
        },
        {
          "output_type": "execute_result",
          "data": {
            "text/plain": [
              "[1.1278973817825317, 0.6945000290870667]"
            ]
          },
          "metadata": {
            "tags": []
          },
          "execution_count": 27
        }
      ]
    },
    {
      "cell_type": "markdown",
      "metadata": {
        "id": "cDmHi_05BKnr"
      },
      "source": [
        "###Plot Accuracy and Loss"
      ]
    },
    {
      "cell_type": "code",
      "metadata": {
        "id": "YdRZz5w2ixwO",
        "colab": {
          "base_uri": "https://localhost:8080/",
          "height": 310
        },
        "outputId": "d34dd7b2-53f7-49e2-999c-c3ce4152dcb0"
      },
      "source": [
        "plot_graphs(cnn_history, cnn_performance); "
      ],
      "execution_count": null,
      "outputs": [
        {
          "output_type": "display_data",
          "data": {
            "image/png": "[encoded data removed]",
            "text/plain": [
              "<Figure size 720x288 with 2 Axes>"
            ]
          },
          "metadata": {
            "tags": [],
            "needs_background": "light"
          }
        }
      ]
    },
    {
      "cell_type": "markdown",
      "metadata": {
        "id": "hzLSZVH0jdG0"
      },
      "source": [
        "## Instructor-Led Discussion\n",
        "\n",
        "How does this model compare with the others? Did this perform as well as we wanted it to? What might be some of the reasons why?"
      ]
    },
    {
      "cell_type": "markdown",
      "metadata": {
        "id": "_eqKTSlRmEGF"
      },
      "source": [
        "#Transfer Learning"
      ]
    },
    {
      "cell_type": "code",
      "metadata": {
        "id": "OPpE58jJmIdY",
        "colab": {
          "base_uri": "https://localhost:8080/"
        },
        "outputId": "d840b632-eb3f-4ef6-81be-c0612eb91a8a"
      },
      "source": [
        "#@title Run this to build your transfer learning model { display-mode: \"form\" }\n",
        "\n",
        "import keras\n",
        "from keras.models import Sequential\n",
        "from keras.layers import Activation, MaxPooling2D, Dropout, Flatten, Reshape, Dense, Conv2D, GlobalAveragePooling2D\n",
        "from keras.wrappers.scikit_learn import KerasClassifier\n",
        "import keras.optimizers as optimizers\n",
        "from keras.applications.vgg16 import VGG16\n",
        "\n",
        "# load the vgg network that is an 'expert' at 'imagenet' but do not include the FC layers\n",
        "vgg_expert = VGG16(weights = 'imagenet', include_top = False, input_shape = (48, 48, 3))\n",
        "\n",
        "# we add the first 12 layers of vgg to our own model vgg_model\n",
        "vgg_model = Sequential()\n",
        "vgg_model.add(vgg_expert)\n",
        "\n",
        "# and then add our own layers on top of it\n",
        "vgg_model.add(GlobalAveragePooling2D())\n",
        "vgg_model.add(Dense(1024, activation = 'relu'))\n",
        "vgg_model.add(Dropout(0.3))\n",
        "vgg_model.add(Dense(512, activation = 'relu'))\n",
        "vgg_model.add(Dropout(0.3))\n",
        "vgg_model.add(Dense(5, activation = 'sigmoid'))\n",
        "\n",
        "# finally, we build the vgg model and turn it on so we can use it!\n",
        "vgg_model.compile(loss = 'categorical_crossentropy', \n",
        "          optimizer = optimizers.SGD(lr=1e-4, momentum=0.95), \n",
        "          metrics=['accuracy'])\n",
        "\n",
        "X_TRAIN = np.array([np.transpose(np.array([X_train_cnn[ix].squeeze() for i in range(3)]), (1,2,0)) for ix in range(len(X_train))])\n",
        "X_TEST = np.array([np.transpose(np.array([X_test_cnn[ix].squeeze() for i in range(3)]), (1,2,0)) for ix in range(len(X_test))])\n",
        "\n",
        "#training the model\n",
        "vgg_history = vgg_model.fit(X_TRAIN, y_train,\n",
        "          batch_size=batch_size,\n",
        "          epochs=epochs,\n",
        "          verbose=1,\n",
        "          callbacks=[checkpoint],\n",
        "          validation_data=(X_TEST, y_test),\n",
        "          shuffle=True)"
      ],
      "execution_count": null,
      "outputs": [
        {
          "output_type": "stream",
          "text": [
            "Downloading data from https://storage.googleapis.com/tensorflow/keras-applications/vgg16/vgg16_weights_tf_dim_ordering_tf_kernels_notop.h5\n",
            "58892288/58889256 [==============================] - 0s 0us/step\n",
            "58900480/58889256 [==============================] - 0s 0us/step\n",
            "Epoch 1/20\n",
            "282/282 [==============================] - 22s 67ms/step - loss: 1.6100 - accuracy: 0.2565 - val_loss: 1.3201 - val_accuracy: 0.4385\n",
            "\n",
            "Epoch 00001: val_loss did not improve from 0.84971\n",
            "Epoch 2/20\n",
            "282/282 [==============================] - 18s 63ms/step - loss: 1.3062 - accuracy: 0.4333 - val_loss: 1.1445 - val_accuracy: 0.5240\n",
            "\n",
            "Epoch 00002: val_loss did not improve from 0.84971\n",
            "Epoch 3/20\n",
            "282/282 [==============================] - 18s 63ms/step - loss: 1.1536 - accuracy: 0.5264 - val_loss: 1.0388 - val_accuracy: 0.5830\n",
            "\n",
            "Epoch 00003: val_loss did not improve from 0.84971\n",
            "Epoch 4/20\n",
            "282/282 [==============================] - 18s 62ms/step - loss: 1.0497 - accuracy: 0.5809 - val_loss: 1.0141 - val_accuracy: 0.5970\n",
            "\n",
            "Epoch 00004: val_loss did not improve from 0.84971\n",
            "Epoch 5/20\n",
            "282/282 [==============================] - 18s 62ms/step - loss: 1.0010 - accuracy: 0.6017 - val_loss: 0.9748 - val_accuracy: 0.6125\n",
            "\n",
            "Epoch 00005: val_loss did not improve from 0.84971\n",
            "Epoch 6/20\n",
            "282/282 [==============================] - 18s 63ms/step - loss: 0.9540 - accuracy: 0.6212 - val_loss: 0.9866 - val_accuracy: 0.6080\n",
            "\n",
            "Epoch 00006: val_loss did not improve from 0.84971\n",
            "Epoch 7/20\n",
            "282/282 [==============================] - 18s 63ms/step - loss: 0.9055 - accuracy: 0.6409 - val_loss: 0.9217 - val_accuracy: 0.6360\n",
            "\n",
            "Epoch 00007: val_loss did not improve from 0.84971\n",
            "Epoch 8/20\n",
            "282/282 [==============================] - 18s 63ms/step - loss: 0.8571 - accuracy: 0.6609 - val_loss: 0.8944 - val_accuracy: 0.6390\n",
            "\n",
            "Epoch 00008: val_loss did not improve from 0.84971\n",
            "Epoch 9/20\n",
            "282/282 [==============================] - 18s 63ms/step - loss: 0.8281 - accuracy: 0.6771 - val_loss: 0.9760 - val_accuracy: 0.6275\n",
            "\n",
            "Epoch 00009: val_loss did not improve from 0.84971\n",
            "Epoch 10/20\n",
            "282/282 [==============================] - 18s 63ms/step - loss: 0.8130 - accuracy: 0.6840 - val_loss: 0.8607 - val_accuracy: 0.6665\n",
            "\n",
            "Epoch 00010: val_loss did not improve from 0.84971\n",
            "Epoch 11/20\n",
            "282/282 [==============================] - 18s 63ms/step - loss: 0.7640 - accuracy: 0.7073 - val_loss: 0.9073 - val_accuracy: 0.6435\n",
            "\n",
            "Epoch 00011: val_loss did not improve from 0.84971\n",
            "Epoch 12/20\n",
            "282/282 [==============================] - 18s 62ms/step - loss: 0.7444 - accuracy: 0.7174 - val_loss: 0.8703 - val_accuracy: 0.6655\n",
            "\n",
            "Epoch 00012: val_loss did not improve from 0.84971\n",
            "Epoch 13/20\n",
            "282/282 [==============================] - 18s 63ms/step - loss: 0.7100 - accuracy: 0.7325 - val_loss: 0.8655 - val_accuracy: 0.6730\n",
            "\n",
            "Epoch 00013: val_loss did not improve from 0.84971\n",
            "Epoch 14/20\n",
            "282/282 [==============================] - 18s 63ms/step - loss: 0.6775 - accuracy: 0.7478 - val_loss: 0.8604 - val_accuracy: 0.6695\n",
            "\n",
            "Epoch 00014: val_loss did not improve from 0.84971\n",
            "Epoch 15/20\n",
            "282/282 [==============================] - 18s 63ms/step - loss: 0.6393 - accuracy: 0.7558 - val_loss: 0.8700 - val_accuracy: 0.6660\n",
            "\n",
            "Epoch 00015: val_loss did not improve from 0.84971\n",
            "Epoch 16/20\n",
            "282/282 [==============================] - 18s 62ms/step - loss: 0.6009 - accuracy: 0.7715 - val_loss: 0.8906 - val_accuracy: 0.6750\n",
            "\n",
            "Epoch 00016: val_loss did not improve from 0.84971\n",
            "Epoch 17/20\n",
            "282/282 [==============================] - 18s 63ms/step - loss: 0.5762 - accuracy: 0.7841 - val_loss: 0.8887 - val_accuracy: 0.6820\n",
            "\n",
            "Epoch 00017: val_loss did not improve from 0.84971\n",
            "Epoch 18/20\n",
            "282/282 [==============================] - 18s 63ms/step - loss: 0.5349 - accuracy: 0.8008 - val_loss: 0.9233 - val_accuracy: 0.6805\n",
            "\n",
            "Epoch 00018: val_loss did not improve from 0.84971\n",
            "Epoch 19/20\n",
            "282/282 [==============================] - 17s 62ms/step - loss: 0.4975 - accuracy: 0.8187 - val_loss: 0.9740 - val_accuracy: 0.6670\n",
            "\n",
            "Epoch 00019: val_loss did not improve from 0.84971\n",
            "Epoch 20/20\n",
            "282/282 [==============================] - 18s 63ms/step - loss: 0.4746 - accuracy: 0.8268 - val_loss: 0.9177 - val_accuracy: 0.6840\n",
            "\n",
            "Epoch 00020: val_loss did not improve from 0.84971\n"
          ],
          "name": "stdout"
        }
      ]
    },
    {
      "cell_type": "markdown",
      "metadata": {
        "id": "rwABV9sHAclF"
      },
      "source": [
        "###Evaluate model"
      ]
    },
    {
      "cell_type": "markdown",
      "metadata": {
        "id": "EjquMpMmAZEo"
      },
      "source": [
        "###Visualize accuracy and loss over training + display best model's performance"
      ]
    },
    {
      "cell_type": "code",
      "metadata": {
        "id": "OflGd8RFsrTX",
        "colab": {
          "base_uri": "https://localhost:8080/"
        },
        "outputId": "7765dacc-49eb-4b0d-f617-67f2dfb635ec"
      },
      "source": [
        "vgg_performance = vgg_model.evaluate(X_TEST, y_test, batch_size=64)\n",
        "plot_graphs(vgg_history, vgg_performance); \n"
      ],
      "execution_count": null,
      "outputs": [
        {
          "output_type": "stream",
          "text": [
            "32/32 [==============================] - 1s 18ms/step - loss: 0.9177 - accuracy: 0.6840\n"
          ],
          "name": "stdout"
        },
        {
          "output_type": "display_data",
          "data": {
            "image/png": "[encoded data removed]",
            "text/plain": [
              "<Figure size 720x288 with 2 Axes>"
            ]
          },
          "metadata": {
            "tags": [],
            "needs_background": "light"
          }
        }
      ]
    },
    {
      "cell_type": "code",
      "metadata": {
        "id": "60FJChkPc7iY",
        "colab": {
          "base_uri": "https://localhost:8080/",
          "height": 279
        },
        "outputId": "3b2115a3-38fc-45fe-d37a-936e1b0aa53f"
      },
      "source": [
        "compare_learning(mlp_history, lm_history, cnn_history, vgg_history)"
      ],
      "execution_count": null,
      "outputs": [
        {
          "output_type": "display_data",
          "data": {
            "image/png": "[encoded data removed]",
            "text/plain": [
              "<Figure size 432x288 with 1 Axes>"
            ]
          },
          "metadata": {
            "tags": [],
            "needs_background": "light"
          }
        }
      ]
    },
    {
      "cell_type": "markdown",
      "metadata": {
        "id": "-kmm2fWDBtfW"
      },
      "source": [
        "###How can we explain this pattern of performance across all these models?"
      ]
    },
    {
      "cell_type": "markdown",
      "metadata": {
        "id": "SRW9UiFbBoAK"
      },
      "source": [
        "# Finished :D"
      ]
    }
  ]
}